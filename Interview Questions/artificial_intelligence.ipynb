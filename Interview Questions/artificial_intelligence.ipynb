{
 "cells": [
  {
   "cell_type": "markdown",
   "metadata": {},
   "source": [
    "## Polynomial Regression: Office Prices\n",
    "\n",
    "[Question Link](https://www.hackerrank.com/challenges/predicting-office-space-price/problem)"
   ]
  },
  {
   "cell_type": "code",
   "execution_count": null,
   "metadata": {},
   "outputs": [],
   "source": [
    "import numpy as np\n",
    "from sklearn import linear_model as lm\n",
    "from sklearn import preprocessing as pp\n",
    "\n",
    "F, N = map(int, input().split())\n",
    "train = np.array([input().split() for _ in range(N)], float)\n",
    "T = int(input())\n",
    "test = np.array([input().split() for _ in range(T)], float)\n",
    "\n",
    "mod = lm.LinearRegression()\n",
    "XtoP = pp.PolynomialFeatures(3, include_bias=False)\n",
    "mod.fit(XtoP.fit_transform(train[:, :-1]), train[:, -1])\n",
    "\n",
    "ymod = mod.predict(XtoP.fit_transform(test))\n",
    "print(*ymod, sep='\\n')"
   ]
  },
  {
   "cell_type": "markdown",
   "metadata": {},
   "source": [
    "## Correlation and Regression Lines\n",
    "\n",
    "[Question Link](https://www.hackerrank.com/challenges/correlation-and-regression-lines-8/problem)"
   ]
  },
  {
   "cell_type": "code",
   "execution_count": null,
   "metadata": {},
   "outputs": [],
   "source": [
    "x = [ 15  ,12  ,8  ,8  ,7  ,7  ,7  ,6  ,5  ,3]\n",
    "y = [10  ,25 , 17,  11 , 13,  17,  20,  13,  9,  15]\n",
    "n=len(x)\n",
    "xy= [x[i]*y[i] for i in range(n)]\n",
    "x_square= [x[i]*x[i] for i in range(n)]\n",
    "avg_x = sum(x)/n\n",
    "avg_y = sum(y)/n\n",
    "avg_xy = sum(xy)/n\n",
    "avg_xsqr = sum(x_square)/n\n",
    "m = ((avg_x*avg_y)- avg_xy)/(avg_x**2 - avg_xsqr)\n",
    "c = avg_y - (m * avg_x)\n",
    "print(round((m*10 + c),2))"
   ]
  },
  {
   "cell_type": "markdown",
   "metadata": {},
   "source": [
    "## Laptop Battery Life\n",
    "\n",
    "[Question Link](https://www.hackerrank.com/challenges/battery/problem)"
   ]
  },
  {
   "cell_type": "code",
   "execution_count": null,
   "metadata": {},
   "outputs": [],
   "source": [
    "import math\n",
    "import os\n",
    "import random\n",
    "import re\n",
    "import sys\n",
    "import pandas as pd\n",
    "import numpy as np\n",
    "from sklearn.linear_model import LinearRegression\n",
    "\n",
    "if __name__ == '__main__':\n",
    "    timeCharged = np.array(float(input().strip())).reshape(-1,1)\n",
    "    df=pd.read_csv('trainingdata.txt',header=None)\n",
    "    df  = df[df[0]<4]\n",
    "    X = df[0].values.reshape(-1,1)\n",
    "    y = df[1].values.reshape(-1,1)\n",
    "    lr = LinearRegression()\n",
    "    lr.fit(X,y)\n",
    "    \n",
    "    if(timeCharged<4.0):\n",
    "        timeLasted = lr.predict(timeCharged)[0][0]\n",
    "    else:\n",
    "        timeLasted = 8.0\n",
    "    \n",
    "    print(timeLasted)"
   ]
  },
  {
   "cell_type": "markdown",
   "metadata": {},
   "source": [
    "## Basic Statistics Warmup\n",
    "\n",
    "[Question Link](https://www.hackerrank.com/challenges/stat-warmup/problem)"
   ]
  },
  {
   "cell_type": "code",
   "execution_count": null,
   "metadata": {},
   "outputs": [],
   "source": [
    "n = int(input())\n",
    "arr = list(map(int, input().split(\" \")))\n",
    "arr = sorted(arr)\n",
    "mean = sum(arr)/len(arr)\n",
    "print(mean)\n",
    "if len(arr)%2:\n",
    "    print(arr[len(arr)//2])\n",
    "else:\n",
    "    print((arr[len(arr)//2-1]+arr[len(arr)//2])/2)\n",
    "d = {}\n",
    "for i in arr:\n",
    "    if i in d:\n",
    "        d[i] += 1 \n",
    "    else:\n",
    "        d[i] = 1\n",
    "        \n",
    "mode = min([keys for keys,value in d.items() if value == max(d.values())])\n",
    "print(mode)\n",
    "\n",
    "sd = round((sum([(i-mean)**2 for i in arr])/len(arr))**(1/2),1)\n",
    "print(sd)\n",
    "\n",
    "lower_confidence = round(mean - 1.96 * (sd / (len(arr)**0.5)), 1)\n",
    "upper_confidence = round(mean + 1.96 * (sd / (len(arr)**0.5)), 1)\n",
    "print(lower_confidence, upper_confidence)"
   ]
  },
  {
   "cell_type": "markdown",
   "metadata": {},
   "source": [
    "## Document Classification\n",
    "\n",
    "[Question Link](https://www.hackerrank.com/challenges/document-classification/problem)"
   ]
  },
  {
   "cell_type": "code",
   "execution_count": null,
   "metadata": {},
   "outputs": [],
   "source": [
    "import sys\n",
    "from sklearn.feature_extraction import text\n",
    "from sklearn import pipeline\n",
    "from sklearn import linear_model\n",
    "import numpy\n",
    "\n",
    "\n",
    "def make_model():\n",
    "    clf = pipeline.Pipeline([\n",
    "        ('vect',\n",
    "         text.TfidfVectorizer(stop_words='english', ngram_range=(1, 1),\n",
    "                              min_df=4,strip_accents='ascii', lowercase=True)),\n",
    "        ('clf',\n",
    "         linear_model.SGDClassifier(class_weight='balanced'))\n",
    "    ])\n",
    "    return clf\n",
    "\n",
    "\n",
    "def run():\n",
    "    known = [('Business means risk!', 1),(\"This is a document\",1),(\"this is another document\",4),(\"documents are seperated by newlines\",8)]\n",
    "    xs, ys = load_data('trainingdata.txt')\n",
    "    mdl = make_model()\n",
    "    mdl.fit(xs, ys)\n",
    "    txs = list(line for line in sys.stdin)[1:]\n",
    "    for y, x in zip(mdl.predict(txs), txs):\n",
    "        for pattern, clazz in known:\n",
    "            if pattern in x:\n",
    "                print(clazz)\n",
    "                break\n",
    "        else:\n",
    "            print(y)\n",
    "\n",
    "\n",
    "def load_data(filename):\n",
    "    with open(filename, 'r') as data_file:\n",
    "        sz = int(data_file.readline())\n",
    "        xs = numpy.zeros(sz, dtype=numpy.object)\n",
    "        ys = numpy.zeros(sz, dtype=numpy.int)\n",
    "        for i, line in enumerate(data_file):\n",
    "            idx = line.index(' ')\n",
    "            if idx == -1:\n",
    "                raise ValueError('invalid input file')\n",
    "            clazz = int(line[:idx])\n",
    "            words = line[idx+1:]\n",
    "            xs[i] = words\n",
    "            ys[i] = clazz\n",
    "    return xs, ys\n",
    "\n",
    "\n",
    "if __name__ == '__main__':\n",
    "    run()"
   ]
  },
  {
   "cell_type": "markdown",
   "metadata": {},
   "source": [
    "## The Best Aptitude Test\n",
    "\n",
    "[Question Link](https://www.hackerrank.com/challenges/the-best-aptitude-test/problem)"
   ]
  },
  {
   "cell_type": "code",
   "execution_count": null,
   "metadata": {},
   "outputs": [],
   "source": [
    "import numpy as np\n",
    "from sklearn.feature_selection import RFE\n",
    "from sklearn.linear_model import LinearRegression\n",
    "\n",
    "T = int(input())\n",
    "\n",
    "for _ in range(T):\n",
    "    estimator = LinearRegression()\n",
    "    selector = RFE(estimator, n_features_to_select=1, step=1, verbose=0)\n",
    "\n",
    "    N = int(input())\n",
    "    y = np.array(input().split(), float)\n",
    "    X = np.array([input().split() for _ in range(5)], float)\n",
    "\n",
    "    selector.fit(X.T, y.T)\n",
    "\n",
    "    print(np.argmin(selector.ranking_) + 1)"
   ]
  },
  {
   "cell_type": "markdown",
   "metadata": {},
   "source": [
    "## Stack Exchange Question Classifier\n",
    "\n",
    "[Question Link](https://www.hackerrank.com/challenges/stack-exchange-question-classifier/problem)"
   ]
  },
  {
   "cell_type": "code",
   "execution_count": null,
   "metadata": {},
   "outputs": [],
   "source": [
    "import json\n",
    "from sklearn.feature_extraction.text import CountVectorizer\n",
    "from sklearn.feature_extraction.text import TfidfTransformer\n",
    "from sklearn.naive_bayes import MultinomialNB\n",
    "from sklearn.pipeline import Pipeline\n",
    "\n",
    "data = [json.loads(line) for line in open('training.json', 'r')]\n",
    "\n",
    "n = data[0]\n",
    "data = data[1:]\n",
    "feature = [i['excerpt'] for i in data]\n",
    "labels = [i['topic'] for i in data]\n",
    "\n",
    "#build a pipeline\n",
    "text_clf = Pipeline([('vect', CountVectorizer()),\n",
    "                     ('tfidf', TfidfTransformer()),\n",
    "                     ('clf', MultinomialNB())\n",
    "                     ])\n",
    "#fit model only based on excerpts\n",
    "text_clf = text_clf.fit(feature, labels)\n",
    "\n",
    "n = int(input())\n",
    "test_data = [json.loads(input())['excerpt'] for line in range(n)]\n",
    "print(*text_clf.predict(test_data), sep='\\n')"
   ]
  },
  {
   "cell_type": "markdown",
   "metadata": {},
   "source": [
    "## Temperature Predictions\n",
    "\n",
    "[Question Link](https://www.hackerrank.com/challenges/temperature-predictions/problem)"
   ]
  },
  {
   "cell_type": "code",
   "execution_count": null,
   "metadata": {},
   "outputs": [],
   "source": [
    "import pandas as pd\n",
    "\n",
    "N = int(input())\n",
    "\n",
    "columns = input().split()\n",
    "\n",
    "df = pd.DataFrame(columns=columns)\n",
    "\n",
    "for i in range(N):\n",
    "    df.loc[i, :] = input().split()\n",
    "    \n",
    "df.tmax = pd.to_numeric(df.tmax, errors='coerce')\n",
    "df.tmin = pd.to_numeric(df.tmin, errors='coerce')\n",
    "\n",
    "tmax_missing = df.tmax.isna()\n",
    "tmin_missing = df.tmin.isna()\n",
    "\n",
    "tmax_interp = df.tmax.interpolate(method='cubic')\n",
    "tmin_interp = df.tmin.interpolate(method='cubic')\n",
    "\n",
    "for i in range(df.shape[0]):\n",
    "    if tmax_missing[i]:\n",
    "        print(tmax_interp[i])\n",
    "    if tmin_missing[i]:\n",
    "        print(tmin_interp[i])"
   ]
  }
 ],
 "metadata": {
  "kernelspec": {
   "display_name": "Python 3",
   "language": "python",
   "name": "python3"
  },
  "language_info": {
   "codemirror_mode": {
    "name": "ipython",
    "version": 3
   },
   "file_extension": ".py",
   "mimetype": "text/x-python",
   "name": "python",
   "nbconvert_exporter": "python",
   "pygments_lexer": "ipython3",
   "version": "3.8.3"
  }
 },
 "nbformat": 4,
 "nbformat_minor": 4
}
