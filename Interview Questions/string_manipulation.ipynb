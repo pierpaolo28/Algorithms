{
 "cells": [
  {
   "cell_type": "markdown",
   "metadata": {},
   "source": [
    "## Strings Manipulation"
   ]
  },
  {
   "cell_type": "markdown",
   "metadata": {},
   "source": [
    "1)\n",
    "\n",
    "- Conserve Sequence\n",
    "- Don't skip any character in between\n",
    "- Vary from 1 character of string to length of string"
   ]
  },
  {
   "cell_type": "code",
   "execution_count": 14,
   "metadata": {},
   "outputs": [
    {
     "name": "stdout",
     "output_type": "stream",
     "text": [
      "['T', 'TA', 'TAN', 'TANU', 'TANUJ']\n",
      "['A', 'AN', 'ANU', 'ANUJ']\n",
      "['N', 'NU', 'NUJ']\n",
      "['U', 'UJ']\n",
      "['J']\n"
     ]
    }
   ],
   "source": [
    "def find_sb(text):\n",
    "    for i in range(len(text)):\n",
    "        print([text[i:k+1] for k in range(i, len(text))]) \n",
    "        \n",
    "find_sb(\"TANUJ\")"
   ]
  },
  {
   "cell_type": "code",
   "execution_count": 17,
   "metadata": {},
   "outputs": [
    {
     "name": "stdout",
     "output_type": "stream",
     "text": [
      "T\n",
      "TA\n",
      "TAN\n",
      "TANU\n",
      "TANUJ\n",
      "A\n",
      "AN\n",
      "ANU\n",
      "ANUJ\n",
      "N\n",
      "NU\n",
      "NUJ\n",
      "U\n",
      "UJ\n",
      "J\n"
     ]
    }
   ],
   "source": [
    "def find_sb(text):\n",
    "    for i in range(len(text)):\n",
    "        for j in range(i+1, len(text)+1):\n",
    "            print(text[i:j]) \n",
    "        \n",
    "find_sb(\"TANUJ\")"
   ]
  },
  {
   "cell_type": "markdown",
   "metadata": {},
   "source": [
    "2)\n",
    "\n",
    "Finding a specific substring in string"
   ]
  },
  {
   "cell_type": "code",
   "execution_count": 19,
   "metadata": {},
   "outputs": [
    {
     "name": "stdout",
     "output_type": "stream",
     "text": [
      "9000 77 81\n",
      "9000 96 100\n"
     ]
    },
    {
     "data": {
      "text/plain": [
       "['9000', '9000']"
      ]
     },
     "execution_count": 19,
     "metadata": {},
     "output_type": "execute_result"
    }
   ],
   "source": [
    "import re\n",
    "\n",
    "lines = '''\n",
    "Nappa - What does the scouter say about his power level?\n",
    "Vegeta - It's over 9000!\n",
    "Nappa - What 9000? That can't be right. Can it?\n",
    "'''\n",
    "\n",
    "all_matches = re.finditer(pattern = \"[0-9]+\",\n",
    "                         string = lines)\n",
    "\n",
    "for match in all_matches:\n",
    "    print(match.group(), match.start(), match.end())\n",
    "\n",
    "\n",
    "re.findall(pattern = \"[0-9]+\", string=lines)"
   ]
  },
  {
   "cell_type": "markdown",
   "metadata": {},
   "source": [
    "3)\n",
    "\n",
    "Using the find method"
   ]
  },
  {
   "cell_type": "code",
   "execution_count": 24,
   "metadata": {},
   "outputs": [
    {
     "name": "stdout",
     "output_type": "stream",
     "text": [
      "11\n",
      "-1\n",
      "-1\n",
      "True\n"
     ]
    }
   ],
   "source": [
    "a = \"Example String\"\n",
    "print(a.find(\"i\"))\n",
    "print(a.find(\"z\"))\n",
    "print(a.find(\"i\", 1, 9))\n",
    "# there is also a method called rfind to start the search from left to right\n",
    "print(\"Str\" in a)"
   ]
  },
  {
   "cell_type": "markdown",
   "metadata": {},
   "source": [
    "4)\n",
    "\n",
    "Find number of times a substring exist in a string (with overlaps)"
   ]
  },
  {
   "cell_type": "code",
   "execution_count": 31,
   "metadata": {},
   "outputs": [
    {
     "data": {
      "text/plain": [
       "2"
      ]
     },
     "execution_count": 31,
     "metadata": {},
     "output_type": "execute_result"
    }
   ],
   "source": [
    "def count_substring(string, sub_string):\n",
    "    c = 0\n",
    "    for i in range(0, len(string), 1):\n",
    "        if string[i:i+len(sub_string)] == sub_string:\n",
    "                c+=1\n",
    "    return c\n",
    "\n",
    "count_substring(\"ABCDCDC\", \"CDC\")"
   ]
  },
  {
   "cell_type": "code",
   "execution_count": 32,
   "metadata": {},
   "outputs": [
    {
     "data": {
      "text/plain": [
       "2"
      ]
     },
     "execution_count": 32,
     "metadata": {},
     "output_type": "execute_result"
    }
   ],
   "source": [
    "def count_substring(string, sub_string):\n",
    "    c, x = 0, -1\n",
    "    while x<len(string):\n",
    "        z = string.find(sub_string, x+1)\n",
    "        if z==-1:\n",
    "            break\n",
    "        c+=1\n",
    "        x=z\n",
    "    return c\n",
    "\n",
    "count_substring(\"ABCDCDC\", \"CDC\")"
   ]
  },
  {
   "cell_type": "markdown",
   "metadata": {},
   "source": [
    "5)\n",
    "\n",
    "Given a string, find the length of the longest substring without repeating characthers."
   ]
  },
  {
   "cell_type": "code",
   "execution_count": 33,
   "metadata": {},
   "outputs": [
    {
     "data": {
      "text/plain": [
       "6"
      ]
     },
     "execution_count": 33,
     "metadata": {},
     "output_type": "execute_result"
    }
   ],
   "source": [
    "def lengthOfLongestSubstring(s):\n",
    "    sub = {}\n",
    "    cur_sub_start = 0\n",
    "    cur_len = 0\n",
    "    longest = 0\n",
    "    for i, letter in enumerate(s):\n",
    "        if letter in sub and sub[letter] >= cur_sub_start:\n",
    "            cur_sub_start = sub[letter] + 1\n",
    "            cur_len = i - sub[letter]\n",
    "            sub[letter] = i\n",
    "        else:\n",
    "            sub[letter] = i\n",
    "            cur_len += 1\n",
    "            if cur_len > longest:\n",
    "                longest = cur_len\n",
    "    return longest\n",
    "\n",
    "lengthOfLongestSubstring(\"abcdecfab\")"
   ]
  },
  {
   "cell_type": "code",
   "execution_count": 35,
   "metadata": {},
   "outputs": [
    {
     "data": {
      "text/plain": [
       "6"
      ]
     },
     "execution_count": 35,
     "metadata": {},
     "output_type": "execute_result"
    }
   ],
   "source": [
    "def lengthOfLongestSubstring(s):\n",
    "    charSet = set()\n",
    "    l = 0\n",
    "    res = 0\n",
    "    \n",
    "    for r in range(len(s)):\n",
    "        while s[r] in charSet:\n",
    "            charSet.remove(s[l])\n",
    "            l += 1\n",
    "        charSet.add(s[r])\n",
    "        res = max(res, r-l+1)\n",
    "    return res\n",
    "\n",
    "lengthOfLongestSubstring(\"abcdecfab\")"
   ]
  },
  {
   "cell_type": "markdown",
   "metadata": {},
   "source": [
    "6)\n",
    "\n",
    "Finding the longest substring of repeating characters"
   ]
  },
  {
   "cell_type": "code",
   "execution_count": 36,
   "metadata": {},
   "outputs": [
    {
     "data": {
      "text/plain": [
       "'aaaa'"
      ]
     },
     "execution_count": 36,
     "metadata": {},
     "output_type": "execute_result"
    }
   ],
   "source": [
    "def longest_str_repeating(string):\n",
    "    lo, up, finlo, finup = 0, 1, 0, 1\n",
    "    while up < len(string):\n",
    "        if string[up] != string[up-1]:\n",
    "            if finup - finlo < up - lo:\n",
    "                finlo, finup = lo, up\n",
    "            lo = up\n",
    "        up += 1\n",
    "    if finup - finlo < up - lo:\n",
    "        finlo, finup = lo, up\n",
    "    return string[finlo:finup]\n",
    "\n",
    "longest_str_repeating(\"abbabaaaabbba\")"
   ]
  },
  {
   "cell_type": "markdown",
   "metadata": {},
   "source": [
    "7)\n",
    "\n",
    "Longest common subsequence in 2 strings"
   ]
  },
  {
   "cell_type": "code",
   "execution_count": 48,
   "metadata": {},
   "outputs": [
    {
     "data": {
      "text/plain": [
       "3"
      ]
     },
     "execution_count": 48,
     "metadata": {},
     "output_type": "execute_result"
    }
   ],
   "source": [
    "def make_dicts(dic, string):\n",
    "    if string in dic:\n",
    "        dic[string] += 1\n",
    "    else:\n",
    "        dic[string] = 1\n",
    "    return dic\n",
    "        \n",
    "def subseqs(string1, string2):\n",
    "    dic1, dic2 = {}, {}\n",
    "    for i in range(len(string1)):\n",
    "        dic1 = make_dicts(dic1, string1[i])\n",
    "        \n",
    "    for i in range(len(string2)):\n",
    "        dic2 = make_dicts(dic2, string2[i])\n",
    "        \n",
    "#     print(dic1)\n",
    "#     print(dic2)\n",
    "    res = {}\n",
    "    for i in list(dic1.keys()):\n",
    "        if i in dic2:\n",
    "            res[i] = min(dic1[i], dic2[i])\n",
    "    return sum(list(res.values()))\n",
    "\n",
    "subseqs(\"AGGTAB\", \"GXTXAYB\")\n",
    "subseqs(\"ABCDGH\", \"AEDFHR\")"
   ]
  },
  {
   "cell_type": "markdown",
   "metadata": {},
   "source": [
    "8)\n",
    "\n",
    "Repeated Substring Pattern (taking a substring and repeating it multiple times, can you recreate the original string?)"
   ]
  },
  {
   "cell_type": "code",
   "execution_count": 51,
   "metadata": {},
   "outputs": [
    {
     "data": {
      "text/plain": [
       "False"
      ]
     },
     "execution_count": 51,
     "metadata": {},
     "output_type": "execute_result"
    }
   ],
   "source": [
    "def repeated_sub(s):\n",
    "    res = ''\n",
    "    for i in range(len(s)//2):\n",
    "        res += s[i]\n",
    "        if len(s)%len(res) == 0:\n",
    "            if res*(len(s)//len(res)) == s:\n",
    "                return True\n",
    "    return False\n",
    "\n",
    "repeated_sub(\"ababab\")\n",
    "repeated_sub(\"abcabcab\")"
   ]
  },
  {
   "cell_type": "markdown",
   "metadata": {},
   "source": [
    "9)\n",
    "\n",
    "Find all anagrams in a string matching a second string"
   ]
  },
  {
   "cell_type": "code",
   "execution_count": 53,
   "metadata": {},
   "outputs": [
    {
     "data": {
      "text/plain": [
       "([0, 6], 2)"
      ]
     },
     "execution_count": 53,
     "metadata": {},
     "output_type": "execute_result"
    }
   ],
   "source": [
    "def find_anagrams(s1, s2):\n",
    "    res = []\n",
    "    for i in range(len(s1)):\n",
    "        if set(s1[i:i+len(s2)]) == set(s2):\n",
    "            res.append(i)\n",
    "    return res, len(res)\n",
    "\n",
    "find_anagrams(\"cbaebabacd\", \"abc\")"
   ]
  },
  {
   "cell_type": "markdown",
   "metadata": {},
   "source": [
    "10)\n",
    "\n",
    "Find all the Palindromic Substrings in a string"
   ]
  },
  {
   "cell_type": "code",
   "execution_count": 54,
   "metadata": {},
   "outputs": [
    {
     "data": {
      "text/plain": [
       "7"
      ]
     },
     "execution_count": 54,
     "metadata": {},
     "output_type": "execute_result"
    }
   ],
   "source": [
    "def countpali(s, l, r):\n",
    "    res = 0\n",
    "    while l>=0 and r<len(s) and s[l]==s[r]:\n",
    "        res += 1\n",
    "        l -= 1\n",
    "        r += 1\n",
    "    return res\n",
    "\n",
    "def countsubstrings(s):\n",
    "    res = 0\n",
    "    for i in range(len(s)):\n",
    "        res += countpali(s, i, i)\n",
    "        res += countpali(s, i, i+1)\n",
    "    return res\n",
    "\n",
    "countsubstrings(\"aaab\")"
   ]
  },
  {
   "cell_type": "markdown",
   "metadata": {},
   "source": [
    "11) \n",
    "\n",
    "Find the longest Palindromic substring in a string"
   ]
  },
  {
   "cell_type": "code",
   "execution_count": 75,
   "metadata": {},
   "outputs": [
    {
     "data": {
      "text/plain": [
       "'bab'"
      ]
     },
     "execution_count": 75,
     "metadata": {},
     "output_type": "execute_result"
    }
   ],
   "source": [
    "def findpali(s, l, r, res, resLen):\n",
    "    while l>= 0 and r<len(s) and s[l] == s[r]:\n",
    "        if (r-l+1)> resLen:\n",
    "            res = s[l:r+1]\n",
    "            resLen = r - l + 1\n",
    "        l -= 1\n",
    "        r += 1\n",
    "    return res, resLen\n",
    "    \n",
    "def longestpalindrome(s):\n",
    "    res = \"\"\n",
    "    resLen = 0\n",
    "    for i in range(len(s)):\n",
    "        res, resLen = findpali(s, i, i, res, resLen)\n",
    "        res, resLen = findpali(s, i, i+1, res, resLen)\n",
    "    return res\n",
    "\n",
    "longestpalindrome(\"babad\")"
   ]
  },
  {
   "cell_type": "markdown",
   "metadata": {},
   "source": [
    "12)\n",
    "\n",
    "Find the length of the longest palindrome that can be built with the letters in a string"
   ]
  },
  {
   "cell_type": "code",
   "execution_count": 76,
   "metadata": {},
   "outputs": [
    {
     "data": {
      "text/plain": [
       "7"
      ]
     },
     "execution_count": 76,
     "metadata": {},
     "output_type": "execute_result"
    }
   ],
   "source": [
    "def longestPalindrome(s):\n",
    "    letters = {}\n",
    "    res = 0\n",
    "    odd = 0\n",
    "\n",
    "    for i in s:\n",
    "        if i not in letters:\n",
    "            letters[i] = 1\n",
    "        else:\n",
    "            letters[i] += 1\n",
    "\n",
    "    if len(letters) == 1:\n",
    "        return letters[s[0]]\n",
    "\n",
    "    for i in letters.values():\n",
    "        if i>1:\n",
    "            if i%2==0:\n",
    "                res += i \n",
    "            else:\n",
    "                res += i-1\n",
    "                odd += 1\n",
    "        else:\n",
    "            odd += 1\n",
    "\n",
    "    if odd>0:\n",
    "        res += 1\n",
    "\n",
    "    return res\n",
    "\n",
    "\n",
    "longestPalindrome(\"abccccdd\")"
   ]
  }
 ],
 "metadata": {
  "kernelspec": {
   "display_name": "Python 3",
   "language": "python",
   "name": "python3"
  },
  "language_info": {
   "codemirror_mode": {
    "name": "ipython",
    "version": 3
   },
   "file_extension": ".py",
   "mimetype": "text/x-python",
   "name": "python",
   "nbconvert_exporter": "python",
   "pygments_lexer": "ipython3",
   "version": "3.8.3"
  }
 },
 "nbformat": 4,
 "nbformat_minor": 4
}
