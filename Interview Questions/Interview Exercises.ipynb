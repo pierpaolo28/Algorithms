{
 "cells": [
  {
   "cell_type": "markdown",
   "metadata": {
    "toc": true
   },
   "source": [
    "<h1>Table of Contents<span class=\"tocSkip\"></span></h1>\n",
    "<div class=\"toc\"><ul class=\"toc-item\"><li><span><a href=\"#firstNonRepeatingCharacter\" data-toc-modified-id=\"firstNonRepeatingCharacter-1\"><span class=\"toc-item-num\">1&nbsp;&nbsp;</span>firstNonRepeatingCharacter</a></span></li><li><span><a href=\"#firstDuplicate\" data-toc-modified-id=\"firstDuplicate-2\"><span class=\"toc-item-num\">2&nbsp;&nbsp;</span>firstDuplicate</a></span></li><li><span><a href=\"#sortedSquaredArray\" data-toc-modified-id=\"sortedSquaredArray-3\"><span class=\"toc-item-num\">3&nbsp;&nbsp;</span>sortedSquaredArray</a></span></li><li><span><a href=\"#sumOfTwo\" data-toc-modified-id=\"sumOfTwo-4\"><span class=\"toc-item-num\">4&nbsp;&nbsp;</span>sumOfTwo</a></span></li><li><span><a href=\"#rotateImage\" data-toc-modified-id=\"rotateImage-5\"><span class=\"toc-item-num\">5&nbsp;&nbsp;</span>rotateImage</a></span></li></ul></div>"
   ]
  },
  {
   "cell_type": "markdown",
   "metadata": {},
   "source": [
    "# Interview Exercises"
   ]
  },
  {
   "cell_type": "code",
   "execution_count": 5,
   "metadata": {},
   "outputs": [],
   "source": [
    "from collections import defaultdict"
   ]
  },
  {
   "cell_type": "markdown",
   "metadata": {},
   "source": [
    "## firstNonRepeatingCharacter"
   ]
  },
  {
   "cell_type": "code",
   "execution_count": 15,
   "metadata": {},
   "outputs": [
    {
     "data": {
      "text/plain": [
       "'f'"
      ]
     },
     "execution_count": 15,
     "metadata": {},
     "output_type": "execute_result"
    }
   ],
   "source": [
    "def firstNonRepeatingCharacter(word):\n",
    "    for i in range(0, len(word)):\n",
    "        res = False\n",
    "        for j in range(0, len(word)):\n",
    "            if ((word[i] == word[j]) and i != j):\n",
    "                res = True\n",
    "        if res != True:\n",
    "            return word[i]\n",
    "    return '_'\n",
    "\n",
    "firstNonRepeatingCharacter('aaaafghg')"
   ]
  },
  {
   "cell_type": "code",
   "execution_count": 18,
   "metadata": {},
   "outputs": [
    {
     "data": {
      "text/plain": [
       "'f'"
      ]
     },
     "execution_count": 18,
     "metadata": {},
     "output_type": "execute_result"
    }
   ],
   "source": [
    "def firstNonRepeatingCharacter2(word):\n",
    "    d = defaultdict(lambda:0) \n",
    "    for i in word:\n",
    "        d[i] += 1\n",
    "    for i in range(0, len(word)):\n",
    "        if d[word[i]] == 1:\n",
    "            return word[i]\n",
    "    \n",
    "    return '_'\n",
    "\n",
    "firstNonRepeatingCharacter2('aaaafghg')"
   ]
  },
  {
   "cell_type": "markdown",
   "metadata": {},
   "source": [
    "## firstDuplicate"
   ]
  },
  {
   "cell_type": "code",
   "execution_count": 24,
   "metadata": {},
   "outputs": [
    {
     "data": {
      "text/plain": [
       "3"
      ]
     },
     "execution_count": 24,
     "metadata": {},
     "output_type": "execute_result"
    }
   ],
   "source": [
    "def firstDuplicate(l):\n",
    "    for i in range(0, len(l)):\n",
    "        for j in range(0, len(l)):\n",
    "            if ((l[i] == l[j]) and i!=j):\n",
    "                return l[i]\n",
    "    return -1\n",
    "    \n",
    "firstDuplicate([1,3,4,3,2,2])"
   ]
  },
  {
   "cell_type": "code",
   "execution_count": 29,
   "metadata": {},
   "outputs": [
    {
     "data": {
      "text/plain": [
       "3"
      ]
     },
     "execution_count": 29,
     "metadata": {},
     "output_type": "execute_result"
    }
   ],
   "source": [
    "def firstDuplicate(l):\n",
    "    max_dist = len(l)\n",
    "    for i in range(0, len(l)):\n",
    "        for j in range(0, len(l)):\n",
    "            if ((l[i] == l[j]) and i!=j):\n",
    "                max_dist = min(max_dist, j)\n",
    "    if max_dist == len(l):\n",
    "        return -1\n",
    "    else:\n",
    "        return l[max_dist]\n",
    "    \n",
    "firstDuplicate([1,3,4,3,2,2])"
   ]
  },
  {
   "cell_type": "code",
   "execution_count": 37,
   "metadata": {},
   "outputs": [
    {
     "data": {
      "text/plain": [
       "3"
      ]
     },
     "execution_count": 37,
     "metadata": {},
     "output_type": "execute_result"
    }
   ],
   "source": [
    "def firstDuplicate(l):\n",
    "    s = set()\n",
    "    for i in range(0, len(l)):\n",
    "        if l[i] in s:\n",
    "            return l[i]\n",
    "        else:\n",
    "            s.update([l[i]])\n",
    "    return -1\n",
    "    \n",
    "firstDuplicate([1,3,4,3,2,2])"
   ]
  },
  {
   "cell_type": "markdown",
   "metadata": {},
   "source": [
    "## sortedSquaredArray"
   ]
  },
  {
   "cell_type": "code",
   "execution_count": 9,
   "metadata": {},
   "outputs": [
    {
     "data": {
      "text/plain": [
       "[1, 4, 9, 25, 64]"
      ]
     },
     "execution_count": 9,
     "metadata": {},
     "output_type": "execute_result"
    }
   ],
   "source": [
    "def sortedSquaredArray(l):\n",
    "    for i in range(0, len(l)):\n",
    "        l[i] = l[i]**2\n",
    "    res = sorted(l)\n",
    "    return res\n",
    "    \n",
    "sortedSquaredArray([-3,-2,1, 5,8])"
   ]
  },
  {
   "cell_type": "code",
   "execution_count": 29,
   "metadata": {},
   "outputs": [
    {
     "data": {
      "text/plain": [
       "[1, 4, 9, 25, 64]"
      ]
     },
     "execution_count": 29,
     "metadata": {},
     "output_type": "execute_result"
    }
   ],
   "source": [
    "def sortedSquaredArray(l):\n",
    "    start = 0\n",
    "    end = len(l)-1\n",
    "    res = [0]*len(l)\n",
    "    for i in range(len(l)-1, -1, -1):\n",
    "        if abs(l[start]) > abs(l[end]):\n",
    "            res[i] = l[start]**2\n",
    "            start +=1\n",
    "        else:\n",
    "            res[i] = l[end]**2\n",
    "            end -= 1\n",
    "            \n",
    "    return res\n",
    "    \n",
    "sortedSquaredArray([-3,-2,1, 5,8])"
   ]
  },
  {
   "cell_type": "markdown",
   "metadata": {},
   "source": [
    "## sumOfTwo"
   ]
  },
  {
   "cell_type": "code",
   "execution_count": 37,
   "metadata": {},
   "outputs": [
    {
     "data": {
      "text/plain": [
       "True"
      ]
     },
     "execution_count": 37,
     "metadata": {},
     "output_type": "execute_result"
    }
   ],
   "source": [
    "def sumOfTwo(a, b, tot):\n",
    "    for i in a:\n",
    "        for j in b:\n",
    "            if i - j == tot:\n",
    "                return True\n",
    "    return False\n",
    "\n",
    "sumOfTwo([2,5,-1,-10,5], [8,2,1,-100], 3)"
   ]
  },
  {
   "cell_type": "code",
   "execution_count": 40,
   "metadata": {},
   "outputs": [
    {
     "data": {
      "text/plain": [
       "True"
      ]
     },
     "execution_count": 40,
     "metadata": {},
     "output_type": "execute_result"
    }
   ],
   "source": [
    "def sumOfTwo(a, b, tot):\n",
    "    s = set()\n",
    "    for i in a:\n",
    "        s.update([i-tot])\n",
    "    for j in b:\n",
    "        if j in s:\n",
    "            return True\n",
    "    return False\n",
    "\n",
    "sumOfTwo([2,5,-1,-10,5], [8,2,1,-100], -2)"
   ]
  },
  {
   "cell_type": "markdown",
   "metadata": {},
   "source": [
    "## rotateImage"
   ]
  },
  {
   "cell_type": "code",
   "execution_count": 89,
   "metadata": {},
   "outputs": [
    {
     "name": "stdout",
     "output_type": "stream",
     "text": [
      "2 3 4\n",
      "1 5 2\n",
      "8 3 6\n",
      "\n",
      "90 Degrees Rotated Image\n",
      "8 1 2\n",
      "3 5 3\n",
      "6 2 4\n"
     ]
    }
   ],
   "source": [
    "def rotateImage(img):\n",
    "    res =  [[0 for i in range(len(img[0]))] for j in range(len(img))]\n",
    "    for i in range(len(img)):\n",
    "        for j in range(len(img[0])):\n",
    "            res[j][len(img[0])-1 - i] = img[i][j]\n",
    "    for x in res:\n",
    "        print(*x, sep=\" \")\n",
    "\n",
    "img = [[2,3,4], [1,5,2], [8,3,6]]\n",
    "for x in img:\n",
    "    print(*x, sep=\" \")\n",
    "print(\"\\n90 Degrees Rotated Image\")\n",
    "rotateImage(img)"
   ]
  },
  {
   "cell_type": "code",
   "execution_count": 119,
   "metadata": {},
   "outputs": [
    {
     "name": "stdout",
     "output_type": "stream",
     "text": [
      "2 3 4\n",
      "1 5 2\n",
      "8 3 6\n",
      "\n",
      "90 Degrees Rotated Image\n",
      "8 1 2\n",
      "3 5 3\n",
      "6 2 4\n"
     ]
    }
   ],
   "source": [
    "def rotateImage(img):\n",
    "    for i in range(len(img)):\n",
    "        for j in range(i, len(img[0])):\n",
    "            tmp =  img[i][j]\n",
    "            img[i][j] = img[j][i]\n",
    "            img[j][i] = tmp\n",
    "    for i in range(len(img)):\n",
    "        for j in range(len(img[0])//2, len(img[0])):\n",
    "            tmp =  img[i][j]\n",
    "            img[i][j] = img[i][len(img[0])-1-j]\n",
    "            img[i][len(img[0])-1-j] = tmp\n",
    "    for x in img:\n",
    "        print(*x, sep=\" \")\n",
    "\n",
    "img = [[2,3,4], [1,5,2], [8,3,6]]\n",
    "for x in img:\n",
    "    print(*x, sep=\" \")\n",
    "print(\"\\n90 Degrees Rotated Image\")\n",
    "rotateImage(img)"
   ]
  }
 ],
 "metadata": {
  "kernelspec": {
   "display_name": "Python 3",
   "language": "python",
   "name": "python3"
  },
  "language_info": {
   "codemirror_mode": {
    "name": "ipython",
    "version": 3
   },
   "file_extension": ".py",
   "mimetype": "text/x-python",
   "name": "python",
   "nbconvert_exporter": "python",
   "pygments_lexer": "ipython3",
   "version": "3.8.3"
  },
  "toc": {
   "base_numbering": 1,
   "nav_menu": {},
   "number_sections": true,
   "sideBar": true,
   "skip_h1_title": true,
   "title_cell": "Table of Contents",
   "title_sidebar": "Contents",
   "toc_cell": true,
   "toc_position": {},
   "toc_section_display": true,
   "toc_window_display": false
  },
  "varInspector": {
   "cols": {
    "lenName": 16,
    "lenType": 16,
    "lenVar": 40
   },
   "kernels_config": {
    "python": {
     "delete_cmd_postfix": "",
     "delete_cmd_prefix": "del ",
     "library": "var_list.py",
     "varRefreshCmd": "print(var_dic_list())"
    },
    "r": {
     "delete_cmd_postfix": ") ",
     "delete_cmd_prefix": "rm(",
     "library": "var_list.r",
     "varRefreshCmd": "cat(var_dic_list()) "
    }
   },
   "types_to_exclude": [
    "module",
    "function",
    "builtin_function_or_method",
    "instance",
    "_Feature"
   ],
   "window_display": false
  }
 },
 "nbformat": 4,
 "nbformat_minor": 4
}
