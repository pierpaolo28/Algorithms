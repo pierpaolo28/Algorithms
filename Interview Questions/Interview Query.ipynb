{
 "cells": [
  {
   "cell_type": "markdown",
   "metadata": {},
   "source": [
    "# Interview Query Questions"
   ]
  },
  {
   "cell_type": "markdown",
   "metadata": {},
   "source": [
    "## Complete Addresses"
   ]
  },
  {
   "cell_type": "markdown",
   "metadata": {},
   "source": [
    "You’re given two dataframes. One contains information about addresses and the other contains relationships between various cities and states. Write a function to create a single dataframe with complete addresses in the format of street, city, state, zipcode."
   ]
  },
  {
   "cell_type": "code",
   "execution_count": 3,
   "metadata": {},
   "outputs": [],
   "source": [
    "import pandas as pd\n",
    "\n",
    "addresses = [\"4860 Sunset Boulevard, San Francisco, 94105\", \"3055 Paradise Lane, Salt Lake City, 84103\", \n",
    "             \"682 Main Street, Detroit, 48204\", \"9001 Cascade Road, Kansas City, 64102\", \"5853 Leon Street, Tampa, 33605\"]\n",
    "\n",
    "df1 = pd.DataFrame(addresses, columns=[\"Addresses\"])\n",
    "\n",
    "city = {\"Salt Lake City\": \"Utah\", \"Kansas City\": \"Missouri\", \"Detroit\": \"Michigan\", \"Tampa\": \"Florida\", \"San Francisco\": \"California\"}\n",
    "\n",
    "df2 = pd.DataFrame(city.items(), columns=[\"City\", \"State\"])"
   ]
  },
  {
   "cell_type": "code",
   "execution_count": 36,
   "metadata": {},
   "outputs": [
    {
     "data": {
      "text/html": [
       "<div>\n",
       "<style scoped>\n",
       "    .dataframe tbody tr th:only-of-type {\n",
       "        vertical-align: middle;\n",
       "    }\n",
       "\n",
       "    .dataframe tbody tr th {\n",
       "        vertical-align: top;\n",
       "    }\n",
       "\n",
       "    .dataframe thead th {\n",
       "        text-align: right;\n",
       "    }\n",
       "</style>\n",
       "<table border=\"1\" class=\"dataframe\">\n",
       "  <thead>\n",
       "    <tr style=\"text-align: right;\">\n",
       "      <th></th>\n",
       "      <th>Addresses</th>\n",
       "    </tr>\n",
       "  </thead>\n",
       "  <tbody>\n",
       "    <tr>\n",
       "      <th>0</th>\n",
       "      <td>4860 Sunset Boulevard, San Francisco, Californ...</td>\n",
       "    </tr>\n",
       "    <tr>\n",
       "      <th>1</th>\n",
       "      <td>3055 Paradise Lane, Salt Lake City, Utah, 84103</td>\n",
       "    </tr>\n",
       "    <tr>\n",
       "      <th>2</th>\n",
       "      <td>682 Main Street, Detroit, Michigan, 48204</td>\n",
       "    </tr>\n",
       "    <tr>\n",
       "      <th>3</th>\n",
       "      <td>9001 Cascade Road, Kansas City, Missouri, 64102</td>\n",
       "    </tr>\n",
       "    <tr>\n",
       "      <th>4</th>\n",
       "      <td>5853 Leon Street, Tampa, Florida, 33605</td>\n",
       "    </tr>\n",
       "  </tbody>\n",
       "</table>\n",
       "</div>"
      ],
      "text/plain": [
       "                                           Addresses\n",
       "0  4860 Sunset Boulevard, San Francisco, Californ...\n",
       "1    3055 Paradise Lane, Salt Lake City, Utah, 84103\n",
       "2          682 Main Street, Detroit, Michigan, 48204\n",
       "3    9001 Cascade Road, Kansas City, Missouri, 64102\n",
       "4            5853 Leon Street, Tampa, Florida, 33605"
      ]
     },
     "execution_count": 36,
     "metadata": {},
     "output_type": "execute_result"
    }
   ],
   "source": [
    "def add_postcode(df1, df2):\n",
    "    df1_split = pd.DataFrame([i.split(\", \") for i in df1['Addresses'].values], columns=[\"Address\", \"City\", \"PostCode\"])\n",
    "    df_joint = pd.merge(df1_split, df2, on=[\"City\"])\n",
    "    res = pd.DataFrame([', '.join(i) for i in df_joint[list(df_joint.columns)[:2] + [list(df_joint.columns)[-1]] + [list(df_joint.columns)[-2]]].values], columns=['Addresses'])\n",
    "    return res\n",
    "\n",
    "add_postcode(df1, df2)"
   ]
  },
  {
   "cell_type": "markdown",
   "metadata": {},
   "source": [
    "## Max Width"
   ]
  },
  {
   "cell_type": "markdown",
   "metadata": {},
   "source": [
    "Given an array of words and a maxWidth parameter, format the text such that each line has exactly maxWidth characters. Pad extra spaces ' ' when necessary so that each line has exactly maxWidth characters.\n",
    "\n",
    "Extra spaces between words should be distributed as evenly as possible. If the number of spaces on a line do not divide evenly between words, the empty slots on the left will be assigned more spaces than the slots on the right."
   ]
  },
  {
   "cell_type": "code",
   "execution_count": 37,
   "metadata": {},
   "outputs": [],
   "source": [
    "words = [\"This\", \"is\", \"an\", \"example\", \"of\", \"text\", \"justification.\"]\n",
    "maxWidth = 16"
   ]
  },
  {
   "cell_type": "code",
   "execution_count": 38,
   "metadata": {},
   "outputs": [
    {
     "data": {
      "text/plain": [
       "['This    is    an', 'example  of text', 'justification.  ']"
      ]
     },
     "execution_count": 38,
     "metadata": {},
     "output_type": "execute_result"
    }
   ],
   "source": [
    "def fullJustify(words, maxWidth):\n",
    "    res, cur = [], []\n",
    "    num_of_letters = 0\n",
    "\n",
    "    for w in words:\n",
    "        # Checking if existing words + new words are greater than max width\n",
    "        if num_of_letters + len(w) + len(cur) > maxWidth:\n",
    "            # Implementing round robin logic\n",
    "            for i in range(maxWidth - num_of_letters):\n",
    "                cur[i%(len(cur)-1 or 1)] += ' '\n",
    "            res.append(''.join(cur))\n",
    "            cur, num_of_letters = [], 0\n",
    "        cur += [w]\n",
    "        num_of_letters += len(w)\n",
    "    return res + [' '.join(cur).ljust(maxWidth)]\n",
    "\n",
    "fullJustify(words, maxWidth)"
   ]
  },
  {
   "cell_type": "markdown",
   "metadata": {},
   "source": [
    "## Customer Analysis"
   ]
  },
  {
   "cell_type": "markdown",
   "metadata": {},
   "source": [
    "You're given a dataframe containing sales data from a grocery store chain with columns for customer ID, gender, and date of sale.\n",
    "\n",
    "Create a new dataset with summary level information on their purchases including the columns:\n",
    "\n",
    "    customer_id\n",
    "    gender\n",
    "    most_recent_sale\n",
    "    order_count\n",
    "\n",
    "most_recent_sale should display the date of the customer's most recent purchase. order_count should display the total number of purchases that the customer has made."
   ]
  },
  {
   "cell_type": "code",
   "execution_count": 5,
   "metadata": {},
   "outputs": [
    {
     "data": {
      "text/html": [
       "<div>\n",
       "<style scoped>\n",
       "    .dataframe tbody tr th:only-of-type {\n",
       "        vertical-align: middle;\n",
       "    }\n",
       "\n",
       "    .dataframe tbody tr th {\n",
       "        vertical-align: top;\n",
       "    }\n",
       "\n",
       "    .dataframe thead th {\n",
       "        text-align: right;\n",
       "    }\n",
       "</style>\n",
       "<table border=\"1\" class=\"dataframe\">\n",
       "  <thead>\n",
       "    <tr style=\"text-align: right;\">\n",
       "      <th></th>\n",
       "      <th>customer_id</th>\n",
       "      <th>Gender</th>\n",
       "      <th>Date of Sale</th>\n",
       "    </tr>\n",
       "  </thead>\n",
       "  <tbody>\n",
       "    <tr>\n",
       "      <th>0</th>\n",
       "      <td>5156</td>\n",
       "      <td>m</td>\n",
       "      <td>2021-01-04</td>\n",
       "    </tr>\n",
       "    <tr>\n",
       "      <th>1</th>\n",
       "      <td>2982</td>\n",
       "      <td>f</td>\n",
       "      <td>2021-02-15</td>\n",
       "    </tr>\n",
       "    <tr>\n",
       "      <th>2</th>\n",
       "      <td>1011</td>\n",
       "      <td>m</td>\n",
       "      <td>2021-03-01</td>\n",
       "    </tr>\n",
       "    <tr>\n",
       "      <th>3</th>\n",
       "      <td>3854</td>\n",
       "      <td>f</td>\n",
       "      <td>2021-03-21</td>\n",
       "    </tr>\n",
       "    <tr>\n",
       "      <th>4</th>\n",
       "      <td>2982</td>\n",
       "      <td>f</td>\n",
       "      <td>2021-04-12</td>\n",
       "    </tr>\n",
       "  </tbody>\n",
       "</table>\n",
       "</div>"
      ],
      "text/plain": [
       "   customer_id Gender Date of Sale\n",
       "0         5156      m   2021-01-04\n",
       "1         2982      f   2021-02-15\n",
       "2         1011      m   2021-03-01\n",
       "3         3854      f   2021-03-21\n",
       "4         2982      f   2021-04-12"
      ]
     },
     "execution_count": 5,
     "metadata": {},
     "output_type": "execute_result"
    }
   ],
   "source": [
    "customers = {\"customer_id\" : [5156, 2982, 1011, 3854, 2982], \n",
    "             \"Gender\" : [\"m\", \"f\", \"m\", \"f\", \"f\"], \"Date of Sale\" : [\"2021-01-04\", \"2021-02-15\", \"2021-03-01\", \"2021-03-21\", \"2021-04-12\"]}\n",
    "\n",
    "customer_df = pd.DataFrame(customers)\n",
    "customer_df"
   ]
  },
  {
   "cell_type": "code",
   "execution_count": 26,
   "metadata": {},
   "outputs": [
    {
     "data": {
      "text/html": [
       "<div>\n",
       "<style scoped>\n",
       "    .dataframe tbody tr th:only-of-type {\n",
       "        vertical-align: middle;\n",
       "    }\n",
       "\n",
       "    .dataframe tbody tr th {\n",
       "        vertical-align: top;\n",
       "    }\n",
       "\n",
       "    .dataframe thead th {\n",
       "        text-align: right;\n",
       "    }\n",
       "</style>\n",
       "<table border=\"1\" class=\"dataframe\">\n",
       "  <thead>\n",
       "    <tr style=\"text-align: right;\">\n",
       "      <th></th>\n",
       "      <th>customer_id</th>\n",
       "      <th>gender</th>\n",
       "      <th>most_recent_sale</th>\n",
       "      <th>order_count</th>\n",
       "    </tr>\n",
       "  </thead>\n",
       "  <tbody>\n",
       "    <tr>\n",
       "      <th>2</th>\n",
       "      <td>1011</td>\n",
       "      <td>m</td>\n",
       "      <td>2021-03-01</td>\n",
       "      <td>1</td>\n",
       "    </tr>\n",
       "    <tr>\n",
       "      <th>1</th>\n",
       "      <td>2982</td>\n",
       "      <td>f</td>\n",
       "      <td>2021-04-12</td>\n",
       "      <td>2</td>\n",
       "    </tr>\n",
       "    <tr>\n",
       "      <th>3</th>\n",
       "      <td>3854</td>\n",
       "      <td>f</td>\n",
       "      <td>2021-03-21</td>\n",
       "      <td>1</td>\n",
       "    </tr>\n",
       "    <tr>\n",
       "      <th>0</th>\n",
       "      <td>5156</td>\n",
       "      <td>m</td>\n",
       "      <td>2021-01-04</td>\n",
       "      <td>1</td>\n",
       "    </tr>\n",
       "  </tbody>\n",
       "</table>\n",
       "</div>"
      ],
      "text/plain": [
       "   customer_id gender most_recent_sale  order_count\n",
       "2         1011      m       2021-03-01            1\n",
       "1         2982      f       2021-04-12            2\n",
       "3         3854      f       2021-03-21            1\n",
       "0         5156      m       2021-01-04            1"
      ]
     },
     "execution_count": 26,
     "metadata": {},
     "output_type": "execute_result"
    }
   ],
   "source": [
    "dfs_by_id = [customer_df[customer_df['customer_id'] == i] for i in list(customer_df['customer_id'].unique())]\n",
    "\n",
    "df_list = []\n",
    "for i in dfs_by_id:\n",
    "    ids, gen, date = list(i.iloc[len(i)-1,:].values)\n",
    "    count = len(i)\n",
    "    df_list.append([ids, gen, date, count])\n",
    "    \n",
    "most_recent_sale = pd.DataFrame(df_list, columns=['customer_id', 'gender', 'most_recent_sale', 'order_count'])\n",
    "most_recent_sale.sort_values('customer_id')"
   ]
  },
  {
   "cell_type": "markdown",
   "metadata": {},
   "source": [
    "## Merge Sorted Lists\n",
    "\n",
    "Given two sorted lists, write a function to merge them into one sorted list.\n",
    "\n",
    "What's the time complexity?"
   ]
  },
  {
   "cell_type": "code",
   "execution_count": 11,
   "metadata": {},
   "outputs": [
    {
     "name": "stdout",
     "output_type": "stream",
     "text": [
      "[0, 1, 2, 3, 4, 6, 7, 8, 9]\n"
     ]
    }
   ],
   "source": [
    "def merge_list(list1, list2):\n",
    "    list1.extend(list2)\n",
    "    list1.sort()\n",
    "    return list1\n",
    "\n",
    "print(merge_list([0,2,6,7,9], [1,3,4,8]))"
   ]
  },
  {
   "cell_type": "markdown",
   "metadata": {},
   "source": [
    "## Over 100 Dollars\n",
    "\n",
    "You're given two dataframes: transactions and products.\n",
    "\n",
    "The transactions dataframe contains transaction ids, product ids, and the total amount of each product sold.\n",
    "\n",
    "The products dataframe contains product ids and prices.\n",
    "\n",
    "Write a function to return a dataframe containing every transaction with a total value of over $100. Include the total value of the transaction as a new column in the dataframe."
   ]
  },
  {
   "cell_type": "code",
   "execution_count": 12,
   "metadata": {},
   "outputs": [],
   "source": [
    "import pandas as pd\n",
    "\n",
    "transactions = {\"transaction_id\" : [1, 2, 3, 4, 5], \"product_id\" : [101, 102, 103, 104, 105], \"amount\" : [3, 5, 8, 3, 2]}\n",
    "\n",
    "products = {\"product_id\" : [101, 102, 103, 104, 105], \"price\" : [20.00, 21.00, 15.00, 16.00, 52.00]}\n",
    "\n",
    "df_transactions = pd.DataFrame(transactions)\n",
    "\n",
    "df_products = pd.DataFrame(products)"
   ]
  },
  {
   "cell_type": "code",
   "execution_count": 14,
   "metadata": {},
   "outputs": [
    {
     "data": {
      "text/html": [
       "<div>\n",
       "<style scoped>\n",
       "    .dataframe tbody tr th:only-of-type {\n",
       "        vertical-align: middle;\n",
       "    }\n",
       "\n",
       "    .dataframe tbody tr th {\n",
       "        vertical-align: top;\n",
       "    }\n",
       "\n",
       "    .dataframe thead th {\n",
       "        text-align: right;\n",
       "    }\n",
       "</style>\n",
       "<table border=\"1\" class=\"dataframe\">\n",
       "  <thead>\n",
       "    <tr style=\"text-align: right;\">\n",
       "      <th></th>\n",
       "      <th>transaction_id</th>\n",
       "      <th>product_id</th>\n",
       "      <th>amount</th>\n",
       "    </tr>\n",
       "  </thead>\n",
       "  <tbody>\n",
       "    <tr>\n",
       "      <th>0</th>\n",
       "      <td>1</td>\n",
       "      <td>101</td>\n",
       "      <td>3</td>\n",
       "    </tr>\n",
       "    <tr>\n",
       "      <th>1</th>\n",
       "      <td>2</td>\n",
       "      <td>102</td>\n",
       "      <td>5</td>\n",
       "    </tr>\n",
       "    <tr>\n",
       "      <th>2</th>\n",
       "      <td>3</td>\n",
       "      <td>103</td>\n",
       "      <td>8</td>\n",
       "    </tr>\n",
       "    <tr>\n",
       "      <th>3</th>\n",
       "      <td>4</td>\n",
       "      <td>104</td>\n",
       "      <td>3</td>\n",
       "    </tr>\n",
       "    <tr>\n",
       "      <th>4</th>\n",
       "      <td>5</td>\n",
       "      <td>105</td>\n",
       "      <td>2</td>\n",
       "    </tr>\n",
       "  </tbody>\n",
       "</table>\n",
       "</div>"
      ],
      "text/plain": [
       "   transaction_id  product_id  amount\n",
       "0               1         101       3\n",
       "1               2         102       5\n",
       "2               3         103       8\n",
       "3               4         104       3\n",
       "4               5         105       2"
      ]
     },
     "execution_count": 14,
     "metadata": {},
     "output_type": "execute_result"
    }
   ],
   "source": [
    "df_transactions"
   ]
  },
  {
   "cell_type": "code",
   "execution_count": 15,
   "metadata": {},
   "outputs": [
    {
     "data": {
      "text/html": [
       "<div>\n",
       "<style scoped>\n",
       "    .dataframe tbody tr th:only-of-type {\n",
       "        vertical-align: middle;\n",
       "    }\n",
       "\n",
       "    .dataframe tbody tr th {\n",
       "        vertical-align: top;\n",
       "    }\n",
       "\n",
       "    .dataframe thead th {\n",
       "        text-align: right;\n",
       "    }\n",
       "</style>\n",
       "<table border=\"1\" class=\"dataframe\">\n",
       "  <thead>\n",
       "    <tr style=\"text-align: right;\">\n",
       "      <th></th>\n",
       "      <th>product_id</th>\n",
       "      <th>price</th>\n",
       "    </tr>\n",
       "  </thead>\n",
       "  <tbody>\n",
       "    <tr>\n",
       "      <th>0</th>\n",
       "      <td>101</td>\n",
       "      <td>20.0</td>\n",
       "    </tr>\n",
       "    <tr>\n",
       "      <th>1</th>\n",
       "      <td>102</td>\n",
       "      <td>21.0</td>\n",
       "    </tr>\n",
       "    <tr>\n",
       "      <th>2</th>\n",
       "      <td>103</td>\n",
       "      <td>15.0</td>\n",
       "    </tr>\n",
       "    <tr>\n",
       "      <th>3</th>\n",
       "      <td>104</td>\n",
       "      <td>16.0</td>\n",
       "    </tr>\n",
       "    <tr>\n",
       "      <th>4</th>\n",
       "      <td>105</td>\n",
       "      <td>52.0</td>\n",
       "    </tr>\n",
       "  </tbody>\n",
       "</table>\n",
       "</div>"
      ],
      "text/plain": [
       "   product_id  price\n",
       "0         101   20.0\n",
       "1         102   21.0\n",
       "2         103   15.0\n",
       "3         104   16.0\n",
       "4         105   52.0"
      ]
     },
     "execution_count": 15,
     "metadata": {},
     "output_type": "execute_result"
    }
   ],
   "source": [
    "df_products"
   ]
  },
  {
   "cell_type": "code",
   "execution_count": 17,
   "metadata": {},
   "outputs": [
    {
     "data": {
      "text/html": [
       "<div>\n",
       "<style scoped>\n",
       "    .dataframe tbody tr th:only-of-type {\n",
       "        vertical-align: middle;\n",
       "    }\n",
       "\n",
       "    .dataframe tbody tr th {\n",
       "        vertical-align: top;\n",
       "    }\n",
       "\n",
       "    .dataframe thead th {\n",
       "        text-align: right;\n",
       "    }\n",
       "</style>\n",
       "<table border=\"1\" class=\"dataframe\">\n",
       "  <thead>\n",
       "    <tr style=\"text-align: right;\">\n",
       "      <th></th>\n",
       "      <th>transaction_id</th>\n",
       "      <th>product_id</th>\n",
       "      <th>amount</th>\n",
       "      <th>total_value</th>\n",
       "    </tr>\n",
       "  </thead>\n",
       "  <tbody>\n",
       "    <tr>\n",
       "      <th>1</th>\n",
       "      <td>2</td>\n",
       "      <td>102</td>\n",
       "      <td>5</td>\n",
       "      <td>105.0</td>\n",
       "    </tr>\n",
       "    <tr>\n",
       "      <th>2</th>\n",
       "      <td>3</td>\n",
       "      <td>103</td>\n",
       "      <td>8</td>\n",
       "      <td>120.0</td>\n",
       "    </tr>\n",
       "    <tr>\n",
       "      <th>4</th>\n",
       "      <td>5</td>\n",
       "      <td>105</td>\n",
       "      <td>2</td>\n",
       "      <td>104.0</td>\n",
       "    </tr>\n",
       "  </tbody>\n",
       "</table>\n",
       "</div>"
      ],
      "text/plain": [
       "   transaction_id  product_id  amount  total_value\n",
       "1               2         102       5        105.0\n",
       "2               3         103       8        120.0\n",
       "4               5         105       2        104.0"
      ]
     },
     "execution_count": 17,
     "metadata": {},
     "output_type": "execute_result"
    }
   ],
   "source": [
    "df_transactions['total_value'] = df_transactions.amount *df_products.price\n",
    "df_transactions[df_transactions['total_value']>=100]"
   ]
  },
  {
   "cell_type": "markdown",
   "metadata": {},
   "source": [
    "## Good Grades and Favorite Colors\n",
    "\n",
    "You’re given a dataframe of students named df_students:\n",
    "\n",
    "| name | age | favorite_color | grade |\n",
    "|------|-----|----------------|-------| \n",
    "|Tim Voss | 19 | red | 91 |\n",
    "|Nicole Johnson | 20 | yellow | 95\n",
    "|Elsa Williams | 21 | green | 82\n",
    "|John James | 20 | blue | 75\n",
    "|Catherine Jones | 23 | green | 93\n",
    "\n",
    "Write a function named grades_colors to select only the rows where the student’s favorite color is green or red and their grade is above 90."
   ]
  },
  {
   "cell_type": "code",
   "execution_count": 19,
   "metadata": {},
   "outputs": [
    {
     "data": {
      "text/html": [
       "<div>\n",
       "<style scoped>\n",
       "    .dataframe tbody tr th:only-of-type {\n",
       "        vertical-align: middle;\n",
       "    }\n",
       "\n",
       "    .dataframe tbody tr th {\n",
       "        vertical-align: top;\n",
       "    }\n",
       "\n",
       "    .dataframe thead th {\n",
       "        text-align: right;\n",
       "    }\n",
       "</style>\n",
       "<table border=\"1\" class=\"dataframe\">\n",
       "  <thead>\n",
       "    <tr style=\"text-align: right;\">\n",
       "      <th></th>\n",
       "      <th>name</th>\n",
       "      <th>age</th>\n",
       "      <th>favorite_color</th>\n",
       "      <th>grade</th>\n",
       "    </tr>\n",
       "  </thead>\n",
       "  <tbody>\n",
       "    <tr>\n",
       "      <th>0</th>\n",
       "      <td>Tim Voss</td>\n",
       "      <td>19</td>\n",
       "      <td>red</td>\n",
       "      <td>91</td>\n",
       "    </tr>\n",
       "    <tr>\n",
       "      <th>1</th>\n",
       "      <td>Nicole Johnson</td>\n",
       "      <td>20</td>\n",
       "      <td>yellow</td>\n",
       "      <td>95</td>\n",
       "    </tr>\n",
       "    <tr>\n",
       "      <th>2</th>\n",
       "      <td>Elsa Williams</td>\n",
       "      <td>21</td>\n",
       "      <td>green</td>\n",
       "      <td>82</td>\n",
       "    </tr>\n",
       "    <tr>\n",
       "      <th>3</th>\n",
       "      <td>John James</td>\n",
       "      <td>20</td>\n",
       "      <td>blue</td>\n",
       "      <td>75</td>\n",
       "    </tr>\n",
       "    <tr>\n",
       "      <th>4</th>\n",
       "      <td>Catherine Jones</td>\n",
       "      <td>23</td>\n",
       "      <td>green</td>\n",
       "      <td>93</td>\n",
       "    </tr>\n",
       "  </tbody>\n",
       "</table>\n",
       "</div>"
      ],
      "text/plain": [
       "              name  age favorite_color  grade\n",
       "0         Tim Voss   19            red     91\n",
       "1   Nicole Johnson   20         yellow     95\n",
       "2    Elsa Williams   21          green     82\n",
       "3       John James   20           blue     75\n",
       "4  Catherine Jones   23          green     93"
      ]
     },
     "execution_count": 19,
     "metadata": {},
     "output_type": "execute_result"
    }
   ],
   "source": [
    "import pandas as pd\n",
    "\n",
    "students = {\"name\" : [\"Tim Voss\", \"Nicole Johnson\", \"Elsa Williams\", \"John James\", \"Catherine Jones\"], \"age\" : [19, 20, 21, 20, 23], \n",
    "            \"favorite_color\" : [\"red\", \"yellow\", \"green\", \"blue\", \"green\"], \"grade\" : [91, 95, 82, 75, 93]}\n",
    "\n",
    "students_df = pd.DataFrame(students)\n",
    "students_df"
   ]
  },
  {
   "cell_type": "code",
   "execution_count": 37,
   "metadata": {},
   "outputs": [
    {
     "data": {
      "text/html": [
       "<div>\n",
       "<style scoped>\n",
       "    .dataframe tbody tr th:only-of-type {\n",
       "        vertical-align: middle;\n",
       "    }\n",
       "\n",
       "    .dataframe tbody tr th {\n",
       "        vertical-align: top;\n",
       "    }\n",
       "\n",
       "    .dataframe thead th {\n",
       "        text-align: right;\n",
       "    }\n",
       "</style>\n",
       "<table border=\"1\" class=\"dataframe\">\n",
       "  <thead>\n",
       "    <tr style=\"text-align: right;\">\n",
       "      <th></th>\n",
       "      <th>name</th>\n",
       "      <th>age</th>\n",
       "      <th>favorite_color</th>\n",
       "      <th>grade</th>\n",
       "    </tr>\n",
       "  </thead>\n",
       "  <tbody>\n",
       "    <tr>\n",
       "      <th>0</th>\n",
       "      <td>Tim Voss</td>\n",
       "      <td>19</td>\n",
       "      <td>red</td>\n",
       "      <td>91</td>\n",
       "    </tr>\n",
       "    <tr>\n",
       "      <th>4</th>\n",
       "      <td>Catherine Jones</td>\n",
       "      <td>23</td>\n",
       "      <td>green</td>\n",
       "      <td>93</td>\n",
       "    </tr>\n",
       "  </tbody>\n",
       "</table>\n",
       "</div>"
      ],
      "text/plain": [
       "              name  age favorite_color  grade\n",
       "0         Tim Voss   19            red     91\n",
       "4  Catherine Jones   23          green     93"
      ]
     },
     "execution_count": 37,
     "metadata": {},
     "output_type": "execute_result"
    }
   ],
   "source": [
    "def grades_colors(df):\n",
    "    return df[(df['grade'] > 90) & (df['favorite_color'] == 'green') | (df['favorite_color'] == 'red')].sort_values('grade')\n",
    "\n",
    "grades_colors(students_df)"
   ]
  },
  {
   "cell_type": "markdown",
   "metadata": {},
   "source": [
    "## Weekly Aggregation\n",
    "\n",
    "Given a list of timestamps in sequential order, return a list of lists grouped by week (7 days) using the first timestamp as the starting point.\n",
    "\n",
    "        ts = [\n",
    "            '2019-01-01', \n",
    "            '2019-01-02',\n",
    "            '2019-01-08', \n",
    "            '2019-02-01', \n",
    "            '2019-02-02',\n",
    "            '2019-02-05',\n",
    "        ]\n",
    "\n",
    "        def weekly_aggregation(ts) -> [\n",
    "            ['2019-01-01', '2019-01-02'], \n",
    "            ['2019-01-08'], \n",
    "            ['2019-02-01', '2019-02-02'],\n",
    "            ['2019-02-05'],\n",
    "        ]"
   ]
  },
  {
   "cell_type": "code",
   "execution_count": 17,
   "metadata": {},
   "outputs": [
    {
     "data": {
      "text/plain": [
       "[['2019-01-01', ['2019-01-02']],\n",
       " ['2019-01-08'],\n",
       " ['2019-02-01', ['2019-02-02']],\n",
       " ['2019-02-05']]"
      ]
     },
     "execution_count": 17,
     "metadata": {},
     "output_type": "execute_result"
    }
   ],
   "source": [
    "import datetime\n",
    "\n",
    "ts = [\n",
    "    '2019-01-01', \n",
    "    '2019-01-02',\n",
    "    '2019-01-08', \n",
    "    '2019-02-01', \n",
    "    '2019-02-02',\n",
    "    '2019-02-05',\n",
    "]\n",
    "\n",
    "def weekly_aggregations(ts):\n",
    "    res = {}\n",
    "    for i in range(len(ts)):\n",
    "        week_num = datetime.datetime.strptime(ts[i],'%Y-%m-%d').isocalendar()[1]\n",
    "        if week_num in res:\n",
    "            res[week_num].append([ts[i]])\n",
    "        else:\n",
    "            res[week_num] = [ts[i]]\n",
    "    return list(res.values())\n",
    "\n",
    "weekly_aggregations(ts)"
   ]
  },
  {
   "cell_type": "markdown",
   "metadata": {},
   "source": [
    "## Replace words with stems\n",
    "\n",
    "In data science, there exists the concept of stemming, which is the heuristic of chopping off the end of a word to clean and bucket it into an easier feature set. \n",
    "\n",
    "Given a dictionary consisting of many roots and a sentence, write a function replace_words to stem all the words in the sentence with the root forming it. If a word has many roots that can form it, replace it with the root with the shortest length.\n",
    "\n",
    "Example:\n",
    "\n",
    "Input:\n",
    "\n",
    "    roots = [\"cat\", \"bat\", \"rat\"]\n",
    "    sentence = \"the cattle was rattled by the battery\"\n",
    "    \n",
    "Output:\n",
    "\n",
    "    \"the cat was rat by the bat\""
   ]
  },
  {
   "cell_type": "code",
   "execution_count": 28,
   "metadata": {},
   "outputs": [],
   "source": [
    "roots = [\"cat\", \"bat\", \"rat\"]\n",
    "sentence = \"the cattle was rattled by the battery\""
   ]
  },
  {
   "cell_type": "code",
   "execution_count": 30,
   "metadata": {},
   "outputs": [
    {
     "name": "stdout",
     "output_type": "stream",
     "text": [
      "the cat was rat by the bat\n",
      "the cat was rat by the bat\n"
     ]
    }
   ],
   "source": [
    "# easy solution assuming roots all have a lenght of 3\n",
    "res = []\n",
    "for i in sentence.split(' '):\n",
    "    if i[:3] in roots:\n",
    "        res.append(i[:3])\n",
    "    else:\n",
    "        res.append(i)\n",
    "print(' '.join(res))\n",
    "\n",
    "\n",
    "# improved solution\n",
    "res = []\n",
    "for w in sentence.split(' '):\n",
    "    res.append(w)\n",
    "    for r in roots:\n",
    "        if w.startswith(r):\n",
    "            res[-1] = r\n",
    "print(' '.join(res))"
   ]
  },
  {
   "cell_type": "markdown",
   "metadata": {},
   "source": [
    "## Acquisition Threshold"
   ]
  },
  {
   "cell_type": "markdown",
   "metadata": {},
   "source": [
    "Capital One has two levels of customer acquisition strategies for customers that are opening credit cards.\n",
    "\n",
    "For high spending customers, Capital One will give clients a one time bonus of 800 dollars. For everyone else, they give a 100 dollar bonus.\n",
    "\n",
    "Write a function in Python that takes a list of client spends as floats and figures out the threshold to divide the high spending vs low spending customers."
   ]
  },
  {
   "cell_type": "code",
   "execution_count": 5,
   "metadata": {},
   "outputs": [
    {
     "data": {
      "text/plain": [
       "705"
      ]
     },
     "execution_count": 5,
     "metadata": {},
     "output_type": "execute_result"
    }
   ],
   "source": [
    "def bonus_threshold(spends_list, pct=0.20):\n",
    "    spends_list.sort(reverse = True)\n",
    "    limit = int(len(spends_list) * pct)\n",
    "    return spends_list[limit]\n",
    "\n",
    "bonus_threshold([23, 14, 75, 23, 9, 705, 709])"
   ]
  },
  {
   "cell_type": "markdown",
   "metadata": {},
   "source": [
    "## Scrambled Tickets\n",
    "\n",
    "Consider a trip from one city to another that may contain many layovers. Given the list of flights out of order, each with a starting city and end city, write a function plan_trip to reconstruct the path of the trip so the trip tickets are in order.\n",
    "\n",
    "Example:\n",
    "\n",
    "For a trip from Bombay to Beijing:"
   ]
  },
  {
   "cell_type": "code",
   "execution_count": 1,
   "metadata": {},
   "outputs": [],
   "source": [
    "flights = [['Chennai', 'Bangalore'], ['Bombay', 'Delhi'], ['Goa', 'Chennai'], ['Delhi', 'Goa'], ['Bangalore', 'Beijing']]\n",
    "output = [['Bombay', 'Delhi'], ['Delhi', 'Goa'], ['Goa', 'Chennai'], ['Chennai', 'Bangalore'], ['Bangalore', 'Beijing'],]"
   ]
  },
  {
   "cell_type": "code",
   "execution_count": 2,
   "metadata": {},
   "outputs": [
    {
     "name": "stdout",
     "output_type": "stream",
     "text": [
      "[['Bombay', 'Delhi'], ['Delhi', 'Goa'], ['Goa', 'Chennai'], ['Chennai', 'Bangalore'], ['Bangalore', 'Beijing']]\n"
     ]
    }
   ],
   "source": [
    "def builder(sorted_list, unsorted_items):\n",
    "    still_unsorted = []\n",
    "    for item in unsorted_items:\n",
    "        if sorted_list[0][0] == item[1]:\n",
    "            sorted_list.insert(0,item)\n",
    "        elif sorted_list[len(sorted_list)-1][1] == item[0]:\n",
    "            sorted_list.append(item)\n",
    "        else:\n",
    "            still_unsorted.append(item)\n",
    "                \n",
    "    return sorted_list, still_unsorted\n",
    "\n",
    "route = [flights[0]]\n",
    "remaining = flights[1:len(flights)]\n",
    "# print(route, remaining)\n",
    "while remaining:\n",
    "    route, remaining = builder(route,remaining)\n",
    "#     print(route, remaining)\n",
    "print(route)"
   ]
  },
  {
   "cell_type": "markdown",
   "metadata": {},
   "source": [
    "## Computing the Correlation\n",
    "\n",
    "You are given the scores of N students in three different subjects, Maths, Physics, and Chemistry.\n",
    "All three are graded on a scale of 0 to 100.\n",
    "Your task is to compute the Pearson product moment correlation coefficient between the scores of different pairs of subject.\n",
    "This data is based on the records of the CBSE K-12 Exam, a national school leaving exam in India, for year 2013.\n",
    "\n",
    "Pearson product-moment correlation coefficient:\n",
    "This is a measure of linear correlation between data series:\n",
    "<br>\n",
    "![](https://github.com/jayshah19949596/CodingInterviews/raw/master/QuantumBlack%20Machine%20Learning%20Software%20Engineer%202019/Images/Correlation.JPG)\n",
    "\n",
    "\n",
    "Input Format:\n",
    "The first row contains an integer N. This is followed by N rows containing three space-separated integers M, P, C corresponding to a candidate's scores in Maths, Physics, Chemistry.\n",
    "Each row contains to the scores obtained in these three subjects by one students.\n",
    "\n",
    "Input Constraints:\n",
    "\n",
    "1 <= N <= 500000\n",
    "0 <= M, P, C <= 100\n",
    "\n",
    "Output Format:\n",
    "The output should contain three lines, with correlation coefficients computed and rounded off to exactly 2 decimal places.\n",
    "The first line should contain the correlation coefficient between Maths and Physics scores.\n",
    "The second line should contain the correlation coefficient between Physics and Chemistry scores.\n",
    "The third line should contain the correlation coefficient between Chemistry and Maths scores."
   ]
  },
  {
   "cell_type": "code",
   "execution_count": 7,
   "metadata": {},
   "outputs": [
    {
     "name": "stdout",
     "output_type": "stream",
     "text": [
      "0.89\n",
      "0.92\n",
      "0.81\n"
     ]
    }
   ],
   "source": [
    "class_scores = ['73\\t72\\t76', '48\\t67\\t76', '95\\t92\\t95', '95\\t95\\t96', '33\\t59\\t79', '47\\t58\\t74', '98\\t95\\t97',\n",
    "\t\t\t\t'91\\t94\\t97', '95\\t84\\t90', '93\\t83\\t90', '70\\t70\\t78', '85\\t79\\t91', '33\\t67\\t76', '47\\t73\\t90',\n",
    "\t\t\t\t'95\\t87\\t95', '84\\t86\\t95', '43\\t63\\t75', '95\\t92\\t100', '54\\t80\\t87', '72\\t76\\t90']\n",
    "\n",
    "def corr_maker(f, s):\n",
    "    num = len(f)*sum([i*j for i, j in zip(f, s)])-sum(f)*sum(s)\n",
    "    dem = ((len(f)*sum([i**2 for i in f])-sum(f)**2)**(1/2))*((len(f)*sum([i**2 for i in s])-sum(s)**2)**(1/2))\n",
    "    return round(num/dem, 2)\n",
    "    \n",
    "m, p, c = [], [], []\n",
    "for i in class_scores:\n",
    "    math, physics, chem = i.split('\\t')\n",
    "    m.append(int(math))\n",
    "    p.append(int(physics))\n",
    "    c.append(int(chem))\n",
    "print(corr_maker(m, p))\n",
    "print(corr_maker(p, c))\n",
    "print(corr_maker(c, m))"
   ]
  },
  {
   "cell_type": "markdown",
   "metadata": {},
   "source": [
    "## Distinct Pairs\n",
    "\n",
    "In this challenge, you will be given an array of integers and a target value. \n",
    "Determining the number of distinct pairs of elements in the array that sum to the target value.\n",
    "Two pairs (a, b) and (c, d) are considered to be distinct if and only if the values in sorted order do not match, i.e., (1, 9) and (9, 1) are indistinct but (1, 9 ) and (9, 2) are distinct.\n",
    "\n",
    "For instance given the array [1, 2, 3, 6, 7, 8, 9, 1] and a target value of 10, the seven pairs (1, 9), (2, 8), (3, 7), (8, 2), (9,1), and (1, 9) all sum to 10 and only three distinct pair: (1, 9), (2, 8), and (3, 7).\n",
    "\n",
    "Function Description:\n",
    "Complete the function numberOfPairs. The function must return an integer, the total number of distinct pairs of elements in the array that sum to the target value.\n",
    "\n",
    "numberOfPairs has following parameters:\n",
    "a[a[0], ..., an-1]]: an array of integers to select the pairs from \n",
    "k: target integer value to sum to\n",
    "\n",
    "Constraints:  \n",
    "- 1 <= n <= 500000\n",
    "- 0 <= a[i] <= 1000000000\n",
    "- 0 <= k <= 500000\n",
    "\n",
    "\t\tSample Input 0:\n",
    "\t\t6\n",
    "\t\t1\n",
    "\t\t3\n",
    "\t\t46\n",
    "\t\t1\n",
    "\t\t3\n",
    "\t\t9\n",
    "\t\t47\n",
    "\t\t\n",
    "\t\tSample Output 0:\n",
    "\t\t1\n",
    "\t\t\n",
    "\t\tExplanation 0:\n",
    "\t\ta = [1, 3, 46, 1, 3, 9], k = 47\n",
    "\t\tThere are 4 pairs of unique elements where a[i]+a[j] = k\n",
    "\t\t1. (a[0] = 1, a[2] = 46)\n",
    "\t\t2. (a[2] = 46, a[0] = 1)\n",
    "\t\t3. (a[2] = 46, a[3] = 1)\n",
    "\t\t4. (a[3] = 1, a[2] = 46) "
   ]
  },
  {
   "cell_type": "code",
   "execution_count": 9,
   "metadata": {},
   "outputs": [
    {
     "name": "stdout",
     "output_type": "stream",
     "text": [
      "1\n"
     ]
    }
   ],
   "source": [
    "inp = [1, 3, 46, 1, 3, 9]\n",
    "k = 47\n",
    "\n",
    "res, visited = [], []\n",
    "for i in range(len(inp)-1):\n",
    "    if inp[i]+inp[i+1]==k:\n",
    "        if [inp[i], inp[i+1]] not in visited:\n",
    "            res.append([inp[i], inp[i+1]])\n",
    "            visited.append(sorted([inp[i], inp[i+1]]))\n",
    "            \n",
    "print(len(res))"
   ]
  },
  {
   "cell_type": "markdown",
   "metadata": {},
   "source": [
    "## Simple queries\n",
    "\n",
    "Given two array if positive integer, for each element in the second array, find the total number of elements in the first array which are less than or equal to that element.\n",
    "Store the values determined in an array.\n",
    "For example, if the first array is `[1, 2, 3]` and the second array is `[2, 4]`, then the there are 2 elements in the first array less than or equal to 2.\n",
    "There are 3 elements in the first array which are less than or equal to 4.\n",
    "We can store these answers in an array, answer = [2, 3].\n",
    "\n",
    "Function Description:\n",
    "Complete the function `counts`. \n",
    "The function must return an array of m positive integers, one for each maxes[i] representing the total number of elements nums[j] satisfying nums[j]<=maxes[i], where 0 <= j < n and 0 <= i < m, in given order\n",
    "\n",
    "counts has the following parameters:\n",
    "num[nums[0], ,..., nums[n-1]]: first array of positive integers\n",
    "maxes[maxes[0], ,..., maxes[n-1]]: second array of positive integers\n",
    "\n",
    "\n",
    "Constraints:  \n",
    "- 2 <= n, m <= 100000\n",
    "- 1 <= nums[j] <= 1000000000, where 0 <= j < n\n",
    "- 1 <= maxes[i] <= 1000000000, where 0 <= i < m.\n",
    "\n",
    "\t\tSample Input 0:\n",
    "\t\t4\n",
    "\t\t1\n",
    "\t\t4\n",
    "\t\t2\n",
    "\t\t4\n",
    "\t\t2\n",
    "\t\t3\n",
    "\t\t5\n",
    "\t\t\n",
    "\t\tSample Output 0:\n",
    "\t\t2\n",
    "\t\t4\n",
    "\t\t\t\n",
    "\t\tExplanation 0:\n",
    "\t\tWe are given n = 4, nums = [1, 4, 2, 4], m = 2, and maxes = [3, 5].\n",
    "\t\t1. For maxes[0] = 3, we have 2 elements in nums (nums[0] = 1, and nums[2] = 2) that are <= maxes[0].\n",
    "\t\t2. For maxes[1] = 5, we have 4 elements in nums (nums[0] = 1, nums[1] = 4, nums[2] = 2, and nums[3] = 4) that are <= maxes[1].\n",
    "\t\tThus the function returns the array [2, 4] as the answer."
   ]
  },
  {
   "cell_type": "code",
   "execution_count": 31,
   "metadata": {},
   "outputs": [
    {
     "name": "stdout",
     "output_type": "stream",
     "text": [
      "numbers = [1, 2, 4, 4, 7] maxes = [3, 5] answer = [2, 4]\n",
      "numbers = [2, 10, 5, 4, 8] maxes = [3, 1, 7, 8] answer = [1, 0, 3, 4]\n",
      "numbers = [1, 4, 2, 4] maxes = [3, 5] answer = [2, 4]\n"
     ]
    }
   ],
   "source": [
    "def counts(inp, match):\n",
    "    out = []\n",
    "    for i in match:\n",
    "        count = 0\n",
    "        for j in inp:\n",
    "            if i>=j:\n",
    "                count+=1\n",
    "        out.append(count)\n",
    "    return out\n",
    "\n",
    "arr = [1, 2, 4, 4, 7]\n",
    "maxes = [3, 5]\n",
    "res = counts(arr, maxes)\n",
    "print(\"numbers =\", arr, \"maxes =\", maxes, \"answer =\", res)\n",
    "\n",
    "arr = [2, 10, 5, 4, 8]\n",
    "maxes = [3, 1, 7, 8]\n",
    "res = counts(arr, maxes)\n",
    "print(\"numbers =\", arr, \"maxes =\", maxes, \"answer =\", res)\n",
    "\n",
    "arr = [1, 4, 2, 4]\n",
    "maxes = [3, 5]\n",
    "res = counts(arr, maxes)\n",
    "print(\"numbers =\", arr, \"maxes =\", maxes, \"answer =\", res)"
   ]
  },
  {
   "cell_type": "markdown",
   "metadata": {},
   "source": [
    "## Compute Deviation\n",
    "\n",
    "Write a function compute_deviation that takes in a list of dictionaries with a key and list of integers and returns a dictionary with the standard deviation of each list.\n",
    "\n",
    "Note that this should be done without using the numpy built in functions.\n",
    "\n",
    "Example:\n",
    "\n",
    "    input = [\n",
    "        {\n",
    "            'key': 'list1',\n",
    "            'values': [4,5,2,3,4,5,2,3],\n",
    "        },\n",
    "        {\n",
    "            'key': 'list2',\n",
    "            'values': [1,1,34,12,40,3,9,7],\n",
    "        }\n",
    "    ]\n",
    "\n",
    "output -> {'list1': 1.12, 'list2': 14.19}"
   ]
  },
  {
   "cell_type": "code",
   "execution_count": 7,
   "metadata": {},
   "outputs": [
    {
     "data": {
      "text/plain": [
       "{'list1': 1.12, 'list2': 14.19}"
      ]
     },
     "execution_count": 7,
     "metadata": {},
     "output_type": "execute_result"
    }
   ],
   "source": [
    "def compute_deviation(data):\n",
    "    res = {}\n",
    "    for i in data:\n",
    "        vals = list(i['values'])\n",
    "        m = sum(vals)/len(vals)\n",
    "        num = [(i - m)**2 for i in vals]\n",
    "        res[i['key']] = round((sum(num)/len(vals))**(1/2), 2)\n",
    "        \n",
    "    return res\n",
    "\n",
    "input_ex = [\n",
    "    {\n",
    "        'key': 'list1',\n",
    "        'values': [4,5,2,3,4,5,2,3],\n",
    "    },\n",
    "    {\n",
    "        'key': 'list2',\n",
    "        'values': [1,1,34,12,40,3,9,7],\n",
    "    }\n",
    "]\n",
    "\n",
    "compute_deviation(input_ex)"
   ]
  },
  {
   "cell_type": "markdown",
   "metadata": {},
   "source": [
    "## Impute Median\n",
    "\n",
    "You’re given a dataframe df_cheeses containing a list of the price of various cheeses from California. The dataframe has missing values in the price column.\n",
    "\n",
    "Write a function cheese_median to impute the median price of the selected California cheeses in place of the missing values. You may assume at least one cheese is not missing its price."
   ]
  },
  {
   "cell_type": "code",
   "execution_count": 34,
   "metadata": {},
   "outputs": [
    {
     "data": {
      "text/html": [
       "<div>\n",
       "<style scoped>\n",
       "    .dataframe tbody tr th:only-of-type {\n",
       "        vertical-align: middle;\n",
       "    }\n",
       "\n",
       "    .dataframe tbody tr th {\n",
       "        vertical-align: top;\n",
       "    }\n",
       "\n",
       "    .dataframe thead th {\n",
       "        text-align: right;\n",
       "    }\n",
       "</style>\n",
       "<table border=\"1\" class=\"dataframe\">\n",
       "  <thead>\n",
       "    <tr style=\"text-align: right;\">\n",
       "      <th></th>\n",
       "      <th>Name</th>\n",
       "      <th>Price</th>\n",
       "    </tr>\n",
       "  </thead>\n",
       "  <tbody>\n",
       "    <tr>\n",
       "      <th>0</th>\n",
       "      <td>Bohemian Goat</td>\n",
       "      <td>15.0</td>\n",
       "    </tr>\n",
       "    <tr>\n",
       "      <th>1</th>\n",
       "      <td>Central Coast Bleu</td>\n",
       "      <td>NaN</td>\n",
       "    </tr>\n",
       "    <tr>\n",
       "      <th>2</th>\n",
       "      <td>Cowgirl Mozzarella</td>\n",
       "      <td>30.0</td>\n",
       "    </tr>\n",
       "    <tr>\n",
       "      <th>3</th>\n",
       "      <td>Cypress Grove Cheddar</td>\n",
       "      <td>NaN</td>\n",
       "    </tr>\n",
       "    <tr>\n",
       "      <th>4</th>\n",
       "      <td>Oakdale Colby</td>\n",
       "      <td>45.0</td>\n",
       "    </tr>\n",
       "  </tbody>\n",
       "</table>\n",
       "</div>"
      ],
      "text/plain": [
       "                    Name  Price\n",
       "0          Bohemian Goat   15.0\n",
       "1     Central Coast Bleu    NaN\n",
       "2     Cowgirl Mozzarella   30.0\n",
       "3  Cypress Grove Cheddar    NaN\n",
       "4          Oakdale Colby   45.0"
      ]
     },
     "execution_count": 34,
     "metadata": {},
     "output_type": "execute_result"
    }
   ],
   "source": [
    "import pandas as pd\n",
    "\n",
    "cheeses = {\"Name\": [\"Bohemian Goat\", \"Central Coast Bleu\", \"Cowgirl Mozzarella\", \"Cypress Grove Cheddar\", \"Oakdale Colby\"], \"Price\" : [15.00, None, 30.00, None, 45.00]}\n",
    "# cheeses = {\"Name\": [\"Bohemian Goat\", \"Central Coast Bleu\", \"Cowgirl Mozzarella\", \"Cypress Grove Cheddar\", \"Oakdale Colby\", \"Oakdale Colby\"], \"Price\" : [15.00, None, 30.00, None, 45.00, 30.00]}\n",
    "\n",
    "df_cheeses = pd.DataFrame(cheeses)\n",
    "df_cheeses.head()"
   ]
  },
  {
   "cell_type": "code",
   "execution_count": 35,
   "metadata": {},
   "outputs": [
    {
     "data": {
      "text/html": [
       "<div>\n",
       "<style scoped>\n",
       "    .dataframe tbody tr th:only-of-type {\n",
       "        vertical-align: middle;\n",
       "    }\n",
       "\n",
       "    .dataframe tbody tr th {\n",
       "        vertical-align: top;\n",
       "    }\n",
       "\n",
       "    .dataframe thead th {\n",
       "        text-align: right;\n",
       "    }\n",
       "</style>\n",
       "<table border=\"1\" class=\"dataframe\">\n",
       "  <thead>\n",
       "    <tr style=\"text-align: right;\">\n",
       "      <th></th>\n",
       "      <th>Name</th>\n",
       "      <th>Price</th>\n",
       "    </tr>\n",
       "  </thead>\n",
       "  <tbody>\n",
       "    <tr>\n",
       "      <th>0</th>\n",
       "      <td>Bohemian Goat</td>\n",
       "      <td>15.0</td>\n",
       "    </tr>\n",
       "    <tr>\n",
       "      <th>1</th>\n",
       "      <td>Central Coast Bleu</td>\n",
       "      <td>30.0</td>\n",
       "    </tr>\n",
       "    <tr>\n",
       "      <th>2</th>\n",
       "      <td>Cowgirl Mozzarella</td>\n",
       "      <td>30.0</td>\n",
       "    </tr>\n",
       "    <tr>\n",
       "      <th>3</th>\n",
       "      <td>Cypress Grove Cheddar</td>\n",
       "      <td>30.0</td>\n",
       "    </tr>\n",
       "    <tr>\n",
       "      <th>4</th>\n",
       "      <td>Oakdale Colby</td>\n",
       "      <td>45.0</td>\n",
       "    </tr>\n",
       "  </tbody>\n",
       "</table>\n",
       "</div>"
      ],
      "text/plain": [
       "                    Name  Price\n",
       "0          Bohemian Goat   15.0\n",
       "1     Central Coast Bleu   30.0\n",
       "2     Cowgirl Mozzarella   30.0\n",
       "3  Cypress Grove Cheddar   30.0\n",
       "4          Oakdale Colby   45.0"
      ]
     },
     "execution_count": 35,
     "metadata": {},
     "output_type": "execute_result"
    }
   ],
   "source": [
    "def imp_median(price):\n",
    "    res = list(price[~price['Price'].isna()]['Price'])\n",
    "    res.sort()\n",
    "    if len(res)%2 == 0:\n",
    "        res = (res[len(res)//2-1]+res[len(res)//2])//2\n",
    "    else:\n",
    "        res = res[len(res)//2]\n",
    "    return  price.fillna(res)\n",
    "\n",
    "imp_median(df_cheeses)"
   ]
  },
  {
   "cell_type": "markdown",
   "metadata": {},
   "source": [
    "## Business Days\n",
    "\n",
    "Given two dates, write a program to find the number of business days that exist between the date range.\n",
    "\n",
    "Example:\n",
    "\n",
    "Input\n",
    "\n",
    "date1 = 2021-01-31\n",
    "date2 = 2021-02-18"
   ]
  },
  {
   "cell_type": "code",
   "execution_count": 4,
   "metadata": {},
   "outputs": [
    {
     "name": "stdout",
     "output_type": "stream",
     "text": [
      "14\n"
     ]
    }
   ],
   "source": [
    "date1 = '2021-01-31'\n",
    "date2 = '2021-02-18'\n",
    "print(pd.bdate_range(date1, date2).shape[0])"
   ]
  },
  {
   "cell_type": "markdown",
   "metadata": {},
   "source": [
    "## Term Frequency\n",
    "\n",
    "Say you are given a text document in the form of a string with the following sentences:\n",
    "\n",
    "Input\n",
    "\n",
    "        document = \"I have a nice car with a nice tires\"\n",
    "        Output\n",
    "\n",
    "        {\n",
    "        \"I\":0.11,\n",
    "        \"have\":0.11,\n",
    "        \"a\":0.22,\n",
    "        \"nice\":0.22,\n",
    "        \"car\": 0.11,\n",
    "        \"with\":0.11,\n",
    "        \"tires\":0.11\n",
    "        }\n",
    "Write a program in python to determine the TF (term frequency) values for each term of this document.\n",
    "\n",
    "Note: round the term frequency to 2 decimal points."
   ]
  },
  {
   "cell_type": "code",
   "execution_count": 9,
   "metadata": {},
   "outputs": [
    {
     "data": {
      "text/plain": [
       "{'I': 0.11,\n",
       " 'have': 0.11,\n",
       " 'a': 0.22,\n",
       " 'nice': 0.22,\n",
       " 'car': 0.11,\n",
       " 'with': 0.11,\n",
       " 'tires': 0.11}"
      ]
     },
     "execution_count": 9,
     "metadata": {},
     "output_type": "execute_result"
    }
   ],
   "source": [
    "document = \"I have a nice car with a nice tires\"\n",
    "\n",
    "def term_frequency(document):\n",
    "    text = document.split(\" \")\n",
    "    res = {}\n",
    "    tf =  round(1/len(text), 2)\n",
    "    for i in text:\n",
    "        if i not in res:\n",
    "            res[i] = tf\n",
    "        else:\n",
    "            res[i] += tf\n",
    "    return res\n",
    "\n",
    "term_frequency(document)"
   ]
  },
  {
   "cell_type": "markdown",
   "metadata": {},
   "source": [
    "## Recurring Character\n",
    "\n",
    "Given a string, write a function recurring_char to find its first recurring character. Return None if there is no recurring character.\n",
    "\n",
    "Treat upper and lower case letters as distinct characters.\n",
    "\n",
    "You may assume the input string includes no spaces.\n",
    "\n",
    "Example:\n",
    "\n",
    "        input = \"interviewquery\"\n",
    "        output = \"i\"\n",
    "\n",
    "        input = \"interv\"\n",
    "        output = None"
   ]
  },
  {
   "cell_type": "code",
   "execution_count": 18,
   "metadata": {},
   "outputs": [],
   "source": [
    "inp = \"interviewquery\"\n",
    "inp = \"interv\"\n",
    "\n",
    "def recurring_char(inp):\n",
    "    res = {}\n",
    "    for i in inp:\n",
    "        if i not in res:\n",
    "            res[i] = 1\n",
    "        else:\n",
    "            return i\n",
    "    return None\n",
    "\n",
    "recurring_char(inp)"
   ]
  },
  {
   "cell_type": "markdown",
   "metadata": {},
   "source": [
    "## Find Bigrams\n",
    "\n",
    "Write a function find_bigrams to take a string and return a list of all bigrams.\n",
    "\n",
    "Example:\n",
    "\n",
    "    sentence = \"\"\"\n",
    "    Have free hours and love children? \n",
    "    Drive kids to school, soccer practice \n",
    "    and other activities.\n",
    "    \"\"\"\n",
    "    def find_bigrams(sentence) ->\n",
    "\n",
    "     [('have', 'free'),\n",
    "     ('free', 'hours'),\n",
    "     ('hours', 'and'),\n",
    "     ('and', 'love'),\n",
    "     ('love', 'children?'),\n",
    "     ('children?', 'drive'),\n",
    "     ('drive', 'kids'),\n",
    "     ('kids', 'to'),\n",
    "     ('to', 'school,'),\n",
    "     ('school,', 'soccer'),\n",
    "     ('soccer', 'practice'),\n",
    "     ('practice', 'and'),\n",
    "     ('and', 'other'),\n",
    "     ('other', 'activities.')]"
   ]
  },
  {
   "cell_type": "code",
   "execution_count": 22,
   "metadata": {},
   "outputs": [
    {
     "data": {
      "text/plain": [
       "[('have', 'free'),\n",
       " ('free', 'hours'),\n",
       " ('hours', 'and'),\n",
       " ('and', 'love'),\n",
       " ('love', 'children?'),\n",
       " ('children?', 'drive'),\n",
       " ('drive', 'kids'),\n",
       " ('kids', 'to'),\n",
       " ('to', 'school,'),\n",
       " ('school,', 'soccer'),\n",
       " ('soccer', 'practice'),\n",
       " ('practice', 'and'),\n",
       " ('and', 'other'),\n",
       " ('other', 'activities.')]"
      ]
     },
     "execution_count": 22,
     "metadata": {},
     "output_type": "execute_result"
    }
   ],
   "source": [
    "def find_bigrams(sentence):\n",
    "    string = sentence.lower().split(\" \")\n",
    "    res = []\n",
    "    for i in range(0, len(string)-1):\n",
    "        res.append((string[i], string[i+1]))\n",
    "    return res\n",
    "\n",
    "sentence = \"\"\"Have free hours and love children? Drive kids to school, soccer practice and other activities.\"\"\"\n",
    "\n",
    "find_bigrams(sentence)"
   ]
  },
  {
   "cell_type": "markdown",
   "metadata": {},
   "source": [
    "### Bucket Test Scores\n",
    "\n",
    "Let’s say you’re given a dataframe of standardized test scores from high schoolers from grades 9 to 12 called df_grades.\n",
    "\n",
    "Given the dataset, write code function in Pandas called bucket_test_scores to return the cumulative percentage of students that received scores within the buckets of <50, <75, <90, <100.\n",
    "\n",
    "Example:\n",
    "\n",
    "Input:\n",
    "\n",
    "    print(df_grades)\n",
    "    user_id\tgrade\ttest score\n",
    "    1\t10\t85\n",
    "    2\t10\t60\n",
    "    3\t11\t90\n",
    "    4\t10\t30\n",
    "    5\t11\t99\n",
    "Output:\n",
    "\n",
    "    def bucket_test_scores(df_grades) ->\n",
    "    grade\ttest score\tpercentage\n",
    "    10\t<50\t33%\n",
    "    10\t<75\t66%\n",
    "    10\t<90\t100%\n",
    "    10\t<100\t100%\n",
    "    11\t<50\t0%\n",
    "    11\t<75\t0%\n",
    "    11\t<90\t50%\n",
    "    11\t<100\t100%"
   ]
  },
  {
   "cell_type": "code",
   "execution_count": 12,
   "metadata": {},
   "outputs": [
    {
     "data": {
      "text/html": [
       "<div>\n",
       "<style scoped>\n",
       "    .dataframe tbody tr th:only-of-type {\n",
       "        vertical-align: middle;\n",
       "    }\n",
       "\n",
       "    .dataframe tbody tr th {\n",
       "        vertical-align: top;\n",
       "    }\n",
       "\n",
       "    .dataframe thead th {\n",
       "        text-align: right;\n",
       "    }\n",
       "</style>\n",
       "<table border=\"1\" class=\"dataframe\">\n",
       "  <thead>\n",
       "    <tr style=\"text-align: right;\">\n",
       "      <th></th>\n",
       "      <th>user_id</th>\n",
       "      <th>grade</th>\n",
       "      <th>test_score</th>\n",
       "    </tr>\n",
       "  </thead>\n",
       "  <tbody>\n",
       "    <tr>\n",
       "      <th>0</th>\n",
       "      <td>1</td>\n",
       "      <td>10</td>\n",
       "      <td>85</td>\n",
       "    </tr>\n",
       "    <tr>\n",
       "      <th>1</th>\n",
       "      <td>2</td>\n",
       "      <td>10</td>\n",
       "      <td>60</td>\n",
       "    </tr>\n",
       "    <tr>\n",
       "      <th>2</th>\n",
       "      <td>3</td>\n",
       "      <td>11</td>\n",
       "      <td>90</td>\n",
       "    </tr>\n",
       "    <tr>\n",
       "      <th>3</th>\n",
       "      <td>4</td>\n",
       "      <td>10</td>\n",
       "      <td>30</td>\n",
       "    </tr>\n",
       "    <tr>\n",
       "      <th>4</th>\n",
       "      <td>5</td>\n",
       "      <td>11</td>\n",
       "      <td>99</td>\n",
       "    </tr>\n",
       "  </tbody>\n",
       "</table>\n",
       "</div>"
      ],
      "text/plain": [
       "   user_id  grade  test_score\n",
       "0        1     10          85\n",
       "1        2     10          60\n",
       "2        3     11          90\n",
       "3        4     10          30\n",
       "4        5     11          99"
      ]
     },
     "execution_count": 12,
     "metadata": {},
     "output_type": "execute_result"
    }
   ],
   "source": [
    "import pandas as pd\n",
    "\n",
    "grades = {\"user_id\": [1, 2, 3, 4, 5], \"grade\" : [10, 10, 11, 10, 11], \"test_score\" : [85, 60, 90, 30, 99]}\n",
    "\n",
    "df_grades = pd.DataFrame(grades)\n",
    "df_grades.head()"
   ]
  },
  {
   "cell_type": "code",
   "execution_count": 4,
   "metadata": {},
   "outputs": [
    {
     "data": {
      "text/html": [
       "<div>\n",
       "<style scoped>\n",
       "    .dataframe tbody tr th:only-of-type {\n",
       "        vertical-align: middle;\n",
       "    }\n",
       "\n",
       "    .dataframe tbody tr th {\n",
       "        vertical-align: top;\n",
       "    }\n",
       "\n",
       "    .dataframe thead th {\n",
       "        text-align: right;\n",
       "    }\n",
       "</style>\n",
       "<table border=\"1\" class=\"dataframe\">\n",
       "  <thead>\n",
       "    <tr style=\"text-align: right;\">\n",
       "      <th></th>\n",
       "      <th>grade</th>\n",
       "      <th>test_score</th>\n",
       "      <th>percentage</th>\n",
       "    </tr>\n",
       "  </thead>\n",
       "  <tbody>\n",
       "    <tr>\n",
       "      <th>0</th>\n",
       "      <td>10</td>\n",
       "      <td>&lt;50</td>\n",
       "      <td>33%</td>\n",
       "    </tr>\n",
       "    <tr>\n",
       "      <th>1</th>\n",
       "      <td>10</td>\n",
       "      <td>&lt;75</td>\n",
       "      <td>66%</td>\n",
       "    </tr>\n",
       "    <tr>\n",
       "      <th>2</th>\n",
       "      <td>10</td>\n",
       "      <td>&lt;90</td>\n",
       "      <td>100%</td>\n",
       "    </tr>\n",
       "    <tr>\n",
       "      <th>3</th>\n",
       "      <td>10</td>\n",
       "      <td>&lt;100</td>\n",
       "      <td>100%</td>\n",
       "    </tr>\n",
       "    <tr>\n",
       "      <th>4</th>\n",
       "      <td>11</td>\n",
       "      <td>&lt;50</td>\n",
       "      <td>0%</td>\n",
       "    </tr>\n",
       "    <tr>\n",
       "      <th>5</th>\n",
       "      <td>11</td>\n",
       "      <td>&lt;75</td>\n",
       "      <td>0%</td>\n",
       "    </tr>\n",
       "    <tr>\n",
       "      <th>6</th>\n",
       "      <td>11</td>\n",
       "      <td>&lt;90</td>\n",
       "      <td>50%</td>\n",
       "    </tr>\n",
       "    <tr>\n",
       "      <th>7</th>\n",
       "      <td>11</td>\n",
       "      <td>&lt;100</td>\n",
       "      <td>100%</td>\n",
       "    </tr>\n",
       "  </tbody>\n",
       "</table>\n",
       "</div>"
      ],
      "text/plain": [
       "   grade test_score percentage\n",
       "0     10        <50        33%\n",
       "1     10        <75        66%\n",
       "2     10        <90       100%\n",
       "3     10       <100       100%\n",
       "4     11        <50         0%\n",
       "5     11        <75         0%\n",
       "6     11        <90        50%\n",
       "7     11       <100       100%"
      ]
     },
     "execution_count": 4,
     "metadata": {},
     "output_type": "execute_result"
    }
   ],
   "source": [
    "def bucket_test_scores(df_grades):\n",
    "    res = []\n",
    "    for i in df_grades['grade'].unique():\n",
    "        scores_by_grade = df_grades[df_grades['grade'] == i]\n",
    "        dem = len(scores_by_grade)\n",
    "        for treshold in [50, 75, 90, 100]:\n",
    "            num = len(scores_by_grade[scores_by_grade['test_score'] <= treshold])\n",
    "            label = '<' + str(treshold)\n",
    "            bucket_score = str(100*num//dem) + '%'\n",
    "            res.append([i, label, bucket_score])\n",
    "            \n",
    "    return pd.DataFrame(res, columns= ['grade', 'test_score', 'percentage'])\n",
    "\n",
    "bucket_test_scores(df_grades)"
   ]
  },
  {
   "cell_type": "code",
   "execution_count": 26,
   "metadata": {},
   "outputs": [
    {
     "data": {
      "text/html": [
       "<div>\n",
       "<style scoped>\n",
       "    .dataframe tbody tr th:only-of-type {\n",
       "        vertical-align: middle;\n",
       "    }\n",
       "\n",
       "    .dataframe tbody tr th {\n",
       "        vertical-align: top;\n",
       "    }\n",
       "\n",
       "    .dataframe thead th {\n",
       "        text-align: right;\n",
       "    }\n",
       "</style>\n",
       "<table border=\"1\" class=\"dataframe\">\n",
       "  <thead>\n",
       "    <tr style=\"text-align: right;\">\n",
       "      <th></th>\n",
       "      <th>grade</th>\n",
       "      <th>test_score</th>\n",
       "      <th>percentage</th>\n",
       "    </tr>\n",
       "  </thead>\n",
       "  <tbody>\n",
       "    <tr>\n",
       "      <th>0</th>\n",
       "      <td>10</td>\n",
       "      <td>(0, 50]</td>\n",
       "      <td>33%</td>\n",
       "    </tr>\n",
       "    <tr>\n",
       "      <th>1</th>\n",
       "      <td>10</td>\n",
       "      <td>(50, 75]</td>\n",
       "      <td>66%</td>\n",
       "    </tr>\n",
       "    <tr>\n",
       "      <th>2</th>\n",
       "      <td>10</td>\n",
       "      <td>(75, 90]</td>\n",
       "      <td>100%</td>\n",
       "    </tr>\n",
       "    <tr>\n",
       "      <th>3</th>\n",
       "      <td>10</td>\n",
       "      <td>(90, 100]</td>\n",
       "      <td>100%</td>\n",
       "    </tr>\n",
       "    <tr>\n",
       "      <th>4</th>\n",
       "      <td>11</td>\n",
       "      <td>(0, 50]</td>\n",
       "      <td>0%</td>\n",
       "    </tr>\n",
       "    <tr>\n",
       "      <th>5</th>\n",
       "      <td>11</td>\n",
       "      <td>(50, 75]</td>\n",
       "      <td>0%</td>\n",
       "    </tr>\n",
       "    <tr>\n",
       "      <th>6</th>\n",
       "      <td>11</td>\n",
       "      <td>(75, 90]</td>\n",
       "      <td>50%</td>\n",
       "    </tr>\n",
       "    <tr>\n",
       "      <th>7</th>\n",
       "      <td>11</td>\n",
       "      <td>(90, 100]</td>\n",
       "      <td>100%</td>\n",
       "    </tr>\n",
       "  </tbody>\n",
       "</table>\n",
       "</div>"
      ],
      "text/plain": [
       "   grade test_score percentage\n",
       "0     10    (0, 50]        33%\n",
       "1     10   (50, 75]        66%\n",
       "2     10   (75, 90]       100%\n",
       "3     10  (90, 100]       100%\n",
       "4     11    (0, 50]         0%\n",
       "5     11   (50, 75]         0%\n",
       "6     11   (75, 90]        50%\n",
       "7     11  (90, 100]       100%"
      ]
     },
     "execution_count": 26,
     "metadata": {},
     "output_type": "execute_result"
    }
   ],
   "source": [
    "def bucket_test_scores(df_grades):\n",
    "    bins = [0, 50, 75, 90, 100]\n",
    "    labels=['<50', '<75', '<90', '<100']\n",
    "    group_size = df_grades.groupby(['grade', pd.cut(df_grades['test_score'], bins, labels)]).size()\n",
    "    percentage = (100 * group_size.groupby('grade').cumsum() // df_grades.groupby('grade').size()).astype(str) + '%'\n",
    "    return percentage.rename('percentage').reset_index()\n",
    "\n",
    "bucket_test_scores(df_grades)"
   ]
  },
  {
   "cell_type": "markdown",
   "metadata": {},
   "source": [
    "### Stratified Split\n",
    "\n",
    "Let’s say you work as a medical researcher.\n",
    "\n",
    "You are given a dataframe of patient data containing the age of the patient and two columns, smoking and cancer, indicating if the patient is a smoker or has cancer, respectively.\n",
    "\n",
    "Write a function, stratified_split, that splits the dataframe into train and test sets while preserving the approximate ratios for the values in a specified column (given by a col parameter).\n",
    "\n",
    "Note: Do not use scikit-learn.\n",
    "\n",
    "Example:\n",
    "\n",
    "Input:\n",
    "\n",
    "    print(df)\n",
    "    ...\n",
    "       age smoking cancer\n",
    "    0   25     yes    yes\n",
    "    1   32      no     no\n",
    "    2   10     yes     no\n",
    "    3   40     yes     no\n",
    "    4   75      no     no\n",
    "    5   80     yes     no\n",
    "    6   60     yes     no\n",
    "    7   60      no    yes\n",
    "    8   40     yes    yes\n",
    "    9   80     yes     no\n",
    "Output:\n",
    "\n",
    "    def stratified_split(df, train_ratio=0.7, col='cancer') -> print(X_train)\n",
    "    ...\n",
    "       age smoking cancer\n",
    "    8   40     yes    yes\n",
    "    6   60     yes     no\n",
    "    7   60      no    yes\n",
    "    4   75      no     no\n",
    "    9   80     yes     no\n",
    "    1   32      no     no\n",
    "    2   10     yes     no\n",
    "    -----------------------\n",
    "    print(X_test)\n",
    "    ...\n",
    "       age smoking cancer\n",
    "    0   25     yes    yes\n",
    "    5   80     yes     no\n",
    "    3   40     yes     no"
   ]
  },
  {
   "cell_type": "code",
   "execution_count": 28,
   "metadata": {},
   "outputs": [
    {
     "data": {
      "text/html": [
       "<div>\n",
       "<style scoped>\n",
       "    .dataframe tbody tr th:only-of-type {\n",
       "        vertical-align: middle;\n",
       "    }\n",
       "\n",
       "    .dataframe tbody tr th {\n",
       "        vertical-align: top;\n",
       "    }\n",
       "\n",
       "    .dataframe thead th {\n",
       "        text-align: right;\n",
       "    }\n",
       "</style>\n",
       "<table border=\"1\" class=\"dataframe\">\n",
       "  <thead>\n",
       "    <tr style=\"text-align: right;\">\n",
       "      <th></th>\n",
       "      <th>age</th>\n",
       "      <th>smoking</th>\n",
       "      <th>cancer</th>\n",
       "    </tr>\n",
       "  </thead>\n",
       "  <tbody>\n",
       "    <tr>\n",
       "      <th>0</th>\n",
       "      <td>25</td>\n",
       "      <td>yes</td>\n",
       "      <td>yes</td>\n",
       "    </tr>\n",
       "    <tr>\n",
       "      <th>1</th>\n",
       "      <td>32</td>\n",
       "      <td>no</td>\n",
       "      <td>no</td>\n",
       "    </tr>\n",
       "    <tr>\n",
       "      <th>2</th>\n",
       "      <td>10</td>\n",
       "      <td>yes</td>\n",
       "      <td>no</td>\n",
       "    </tr>\n",
       "    <tr>\n",
       "      <th>3</th>\n",
       "      <td>40</td>\n",
       "      <td>yes</td>\n",
       "      <td>no</td>\n",
       "    </tr>\n",
       "    <tr>\n",
       "      <th>4</th>\n",
       "      <td>75</td>\n",
       "      <td>no</td>\n",
       "      <td>no</td>\n",
       "    </tr>\n",
       "  </tbody>\n",
       "</table>\n",
       "</div>"
      ],
      "text/plain": [
       "   age smoking cancer\n",
       "0   25     yes    yes\n",
       "1   32      no     no\n",
       "2   10     yes     no\n",
       "3   40     yes     no\n",
       "4   75      no     no"
      ]
     },
     "execution_count": 28,
     "metadata": {},
     "output_type": "execute_result"
    }
   ],
   "source": [
    "import pandas as pd\n",
    "\n",
    "data = {\"age\": [25, 32, 10, 40, 75, 80, 60, 60, 40, 80],\n",
    "          \"smoking\" : ['yes', 'no', 'yes', 'yes', 'no', 'yes', 'yes', 'no', 'yes', 'yes'],\n",
    "          \"cancer\" : ['yes', 'no', 'no', 'no', 'no', 'no', 'no', 'yes', 'yes', 'no']}\n",
    "\n",
    "df = pd.DataFrame(data)\n",
    "df.head()"
   ]
  },
  {
   "cell_type": "code",
   "execution_count": 30,
   "metadata": {},
   "outputs": [
    {
     "data": {
      "text/plain": [
       "5"
      ]
     },
     "execution_count": 30,
     "metadata": {},
     "output_type": "execute_result"
    }
   ],
   "source": [
    "def stratified_split(df, train_ratio=0.7, col='cancer'):\n",
    "    var = df[col].value_counts()\n",
    "    return round(var['no'] * train_ratio)\n",
    "\n",
    "stratified_split(df)"
   ]
  },
  {
   "cell_type": "markdown",
   "metadata": {},
   "source": [
    "### Rain on Rainy Days\n",
    "\n",
    "You’re given a dataframe df_rain containing rainfall data. The dataframe has two columns: day of the week and rainfall in inches.\n",
    "\n",
    "Write a function median_rainfall to find the median amount of rainfall for the days on which it rained.\n",
    "\n",
    "Note: You may assume it rained on at least one of the days.\n",
    "\n",
    "Input:\n",
    "\n",
    "    import pandas as pd\n",
    "\n",
    "    rainfall = {\"Day\" : [\"Monday\", \"Tuesday\", \"Wednesday\", \"Thursday\", \"Friday\"], \"Inches\" : [0, 1.2, 0, 0.8, 1]}\n",
    "\n",
    "    df_rain = pd.DataFrame(rainfall)\n",
    "Output:\n",
    "\n",
    "    def median_rainfall(df_rain) -> 1"
   ]
  },
  {
   "cell_type": "code",
   "execution_count": 31,
   "metadata": {},
   "outputs": [
    {
     "data": {
      "text/html": [
       "<div>\n",
       "<style scoped>\n",
       "    .dataframe tbody tr th:only-of-type {\n",
       "        vertical-align: middle;\n",
       "    }\n",
       "\n",
       "    .dataframe tbody tr th {\n",
       "        vertical-align: top;\n",
       "    }\n",
       "\n",
       "    .dataframe thead th {\n",
       "        text-align: right;\n",
       "    }\n",
       "</style>\n",
       "<table border=\"1\" class=\"dataframe\">\n",
       "  <thead>\n",
       "    <tr style=\"text-align: right;\">\n",
       "      <th></th>\n",
       "      <th>Day</th>\n",
       "      <th>Inches</th>\n",
       "    </tr>\n",
       "  </thead>\n",
       "  <tbody>\n",
       "    <tr>\n",
       "      <th>0</th>\n",
       "      <td>Monday</td>\n",
       "      <td>0.0</td>\n",
       "    </tr>\n",
       "    <tr>\n",
       "      <th>1</th>\n",
       "      <td>Tuesday</td>\n",
       "      <td>1.2</td>\n",
       "    </tr>\n",
       "    <tr>\n",
       "      <th>2</th>\n",
       "      <td>Wednesday</td>\n",
       "      <td>0.0</td>\n",
       "    </tr>\n",
       "    <tr>\n",
       "      <th>3</th>\n",
       "      <td>Thursday</td>\n",
       "      <td>0.8</td>\n",
       "    </tr>\n",
       "    <tr>\n",
       "      <th>4</th>\n",
       "      <td>Friday</td>\n",
       "      <td>1.0</td>\n",
       "    </tr>\n",
       "  </tbody>\n",
       "</table>\n",
       "</div>"
      ],
      "text/plain": [
       "         Day  Inches\n",
       "0     Monday     0.0\n",
       "1    Tuesday     1.2\n",
       "2  Wednesday     0.0\n",
       "3   Thursday     0.8\n",
       "4     Friday     1.0"
      ]
     },
     "execution_count": 31,
     "metadata": {},
     "output_type": "execute_result"
    }
   ],
   "source": [
    "import pandas as pd\n",
    "\n",
    "rainfall = {\"Day\" : [\"Monday\", \"Tuesday\", \"Wednesday\", \"Thursday\", \"Friday\"], \"Inches\" : [0, 1.2, 0, 0.8, 1]}\n",
    "\n",
    "df_rain = pd.DataFrame(rainfall)\n",
    "df_rain.head()"
   ]
  },
  {
   "cell_type": "code",
   "execution_count": 42,
   "metadata": {},
   "outputs": [
    {
     "data": {
      "text/plain": [
       "1.0"
      ]
     },
     "execution_count": 42,
     "metadata": {},
     "output_type": "execute_result"
    }
   ],
   "source": [
    "def median_rainfall(df_rain):\n",
    "    l = df_rain[df_rain['Inches'] > 0.0].sort_values('Inches').reset_index()\n",
    "    if len(l)%2 == 1:\n",
    "        return l['Inches'][len(l)//2]\n",
    "    else:\n",
    "        return (l['Inches'][len(l)//2 -1] + l['Inches'][len(l)//2])/2\n",
    "    \n",
    "median_rainfall(df_rain)"
   ]
  },
  {
   "cell_type": "code",
   "execution_count": 43,
   "metadata": {},
   "outputs": [
    {
     "data": {
      "text/plain": [
       "1.0"
      ]
     },
     "execution_count": 43,
     "metadata": {},
     "output_type": "execute_result"
    }
   ],
   "source": [
    "def median_rainfall(df_rain):\n",
    "    return df_rain[df_rain['Inches'] > 0]['Inches'].median() \n",
    "\n",
    "median_rainfall(df_rain)"
   ]
  },
  {
   "cell_type": "markdown",
   "metadata": {},
   "source": [
    "### Rectangle Overlap\n",
    "\n",
    "You are given two rectangles a and b each defined by four ordered pairs denoting their corners on the x, y plane. Write a function rectangle_overlap to determine whether or not they overlap. Return True if so, and False otherwise.\n",
    "\n",
    "Note: If the two rectangles border one another, or share a corner like two diagonally adjacent positions on a chessboard, they are said to overlap.\n",
    "\n",
    "Note: The lists of ordered pairs are in no particular order. The first entry in list a could be the top left corner while the first in list b is the bottom right.\n",
    "\n",
    "Example:\n",
    "\n",
    "Input:\n",
    "\n",
    "    a = [(-3,5), (-3,2),(0,5),(0,2)]\n",
    "    b = [(-1,4), (3,4), (3,1), (-1,1)]\n",
    "Output:\n",
    "\n",
    "def rectangle_overlap(a, b) -> True\n",
    "As point (0,2) is fully contained in rectangle b and point (-1,4) is fully contained in a rectangle a."
   ]
  },
  {
   "cell_type": "code",
   "execution_count": 44,
   "metadata": {},
   "outputs": [
    {
     "data": {
      "text/plain": [
       "True"
      ]
     },
     "execution_count": 44,
     "metadata": {},
     "output_type": "execute_result"
    }
   ],
   "source": [
    "def rectangle_overlap(a, b):\n",
    "    a_x, a_y = [i[0] for i in a], [i[1] for i in a]\n",
    "    min_ax, max_ax, min_ay, max_ay = min(a_x), max(a_x), min(a_y), max(a_y)\n",
    "\n",
    "    b_x, b_y = [i[0] for i in b], [i[1] for i in b]\n",
    "    min_bx, max_bx, min_by, max_by = min(b_x), max(b_x), min(b_y), max(b_y)\n",
    "\n",
    "    return True if (min_ax <= max_bx and max_ax >= min_bx) and \\\n",
    "                   (min_ay <= max_by and max_ay >= min_by) \\\n",
    "    else False\n",
    "\n",
    "a = [(-3,5), (-3,2),(0,5),(0,2)]\n",
    "b = [(-1,4), (3,4), (3,1), (-1,1)]\n",
    "rectangle_overlap(a, b)"
   ]
  },
  {
   "cell_type": "markdown",
   "metadata": {},
   "source": [
    "### Nightly Job\n",
    "\n",
    "Every night between 7 pm and midnight, two computing jobs from two different sources are randomly started with each one lasting an hour.\n",
    "\n",
    "Unfortunately, when the jobs simultaneously run, they cause a failure in some of the company’s other nightly jobs, resulting in downtime for the company that costs $1000. \n",
    "\n",
    "The CEO, who has enough time today to hear one word, needs a single number representing the annual (365 days) cost of this problem.\n",
    "\n",
    "Note: Write a function to simulate this problem and output an estimated cost \n",
    "\n",
    "Bonus - How would you solve this using probability?\n",
    "\n",
    "Example:\n",
    "\n",
    "Input:\n",
    "\n",
    "    n = 4\n",
    "Output:\n",
    "\n",
    "    simulate_overlap(n) -> 0.4"
   ]
  },
  {
   "cell_type": "code",
   "execution_count": 75,
   "metadata": {},
   "outputs": [
    {
     "data": {
      "text/plain": [
       "182500.0"
      ]
     },
     "execution_count": 75,
     "metadata": {},
     "output_type": "execute_result"
    }
   ],
   "source": [
    "import numpy as np\n",
    "\n",
    "def simulate_overlap(n):\n",
    "    source_1 = np.random.randint(0, 300, size = n)\n",
    "    source_2 = np.random.randint(0, 300, size = n)\n",
    "    overlap = np.mean(np.abs(source_1 - source_2) <= 60)\n",
    "    return overlap * 1000 * 365\n",
    "\n",
    "simulate_overlap(4)"
   ]
  },
  {
   "cell_type": "markdown",
   "metadata": {},
   "source": [
    "### Greatest Common Denominator\n",
    "\n",
    "Good morning. Here's your algorithms question for today.\n",
    "\n",
    "This question was asked by: Microsoft\n",
    "Given a list of integers, write a function gcd to find the greatest common denominator between them.\n",
    "\n",
    "Example:\n",
    "\n",
    "Input:\n",
    "\n",
    "    int_list = [8, 16, 24]\n",
    "Output:\n",
    "\n",
    "    def gcd(int_list) -> 8"
   ]
  },
  {
   "cell_type": "code",
   "execution_count": 106,
   "metadata": {},
   "outputs": [
    {
     "data": {
      "text/plain": [
       "8"
      ]
     },
     "execution_count": 106,
     "metadata": {},
     "output_type": "execute_result"
    }
   ],
   "source": [
    "def gcd(int_list):\n",
    "    div_list = [1]\n",
    "    for i in int_list:\n",
    "        if i <= 0:\n",
    "            break\n",
    "        elif sum([j % i for j in int_list if j>0]) == 0:\n",
    "            div_list.append(i)\n",
    "    return max(div_list)\n",
    "\n",
    "\n",
    "int_list = [8, 16, 24]\n",
    "gcd(int_list)"
   ]
  },
  {
   "cell_type": "markdown",
   "metadata": {},
   "source": [
    "### Alphabet Sum\n",
    "\n",
    "Given a list of strings of letters from a to z, create a function, sum_alphabet, that returns a list of the alphabet sum of each word in the string.\n",
    "\n",
    "The alphabet sum is the sum of the ordinal position of each of the string’s letters in the standard English alphabet ordering. So, the letter a will have a value of 1, z will have a value of 26, and so on.\n",
    "\n",
    "As an example of the alphabet sum of a string, the string sport will have an alphabet sum of 19 + 16 + 15 + 18 + 20 = 88."
   ]
  },
  {
   "cell_type": "code",
   "execution_count": 1,
   "metadata": {},
   "outputs": [
    {
     "data": {
      "text/plain": [
       "[88, 41, 7]"
      ]
     },
     "execution_count": 1,
     "metadata": {},
     "output_type": "execute_result"
    }
   ],
   "source": [
    "words = [\"sport\" , \"good\" , \"bad\"]\n",
    "def sum_alphabet(words):\n",
    "    arr=[]\n",
    "    for w in words:\n",
    "        cnt=0\n",
    "        for ch in w:\n",
    "            cnt+=ord(ch)-ord('a')+1\n",
    "        arr.append(cnt)\n",
    "    return arr\n",
    "\n",
    "sum_alphabet(words)"
   ]
  },
  {
   "cell_type": "markdown",
   "metadata": {},
   "source": [
    "### Expected Tests\n",
    "\n",
    "Suppose there are one million users and we want to expose 1000 users per day to a test. The same user can be selected twice for the test.\n",
    "\n",
    "1. What’s the expected value of how long someone will have to wait before they receive the test? <br>\n",
    "Its not a uniform distribution. The same user can be selected twice. So its geometric distribution with success probability = 1000/1M = 1⁄1000 = 0.001. For a geometric distribution expectation of wait time = 1/p = 1000 days.\n",
    "2. What is the likelihood they get selected after the first day? Is that closer to 0 or 1? <br>\n",
    "1-0.001 (probability of being selected one day) = 0.999"
   ]
  },
  {
   "cell_type": "markdown",
   "metadata": {},
   "source": [
    "## Easy"
   ]
  },
  {
   "cell_type": "markdown",
   "metadata": {},
   "source": [
    "Given 2 arrays write a function to get the intersection of the 2. For example, if A = [1,2,3,4,5] and B = [0,1,3,7] then you should return [1,3]"
   ]
  },
  {
   "cell_type": "code",
   "execution_count": 1,
   "metadata": {},
   "outputs": [
    {
     "data": {
      "text/plain": [
       "[1, 3]"
      ]
     },
     "execution_count": 1,
     "metadata": {},
     "output_type": "execute_result"
    }
   ],
   "source": [
    "A = [1,2,3,4,5]\n",
    "B = [0,1,3,7]\n",
    "\n",
    "def intersect(a, b):\n",
    "    set_a = set(a)\n",
    "    set_b = set(b)\n",
    "    if len(set_a) > len(set_b):\n",
    "        return [i for i in set_b if i in set_a]\n",
    "    else:\n",
    "        return [i for i in set_a if i in set_b]\n",
    "    \n",
    "intersect(A, B)"
   ]
  },
  {
   "cell_type": "markdown",
   "metadata": {},
   "source": [
    "Given an integer array, return the maximum product of any three numbers in the array. For example, for A = [1,3,4,5]  you should return 60, while for B = [-2,-4,5,3] you should return 40."
   ]
  },
  {
   "cell_type": "code",
   "execution_count": 21,
   "metadata": {},
   "outputs": [
    {
     "data": {
      "text/plain": [
       "40"
      ]
     },
     "execution_count": 21,
     "metadata": {},
     "output_type": "execute_result"
    }
   ],
   "source": [
    "A = [1,3,4,5]\n",
    "B = [-2,-4,5,3]\n",
    "\n",
    "def maxtreeprod(a):\n",
    "    s_a = sorted(a)\n",
    "    return max(s_a[-1:][0]*s_a[0]*s_a[1], s_a[-1:][0]*s_a[-2:-1][0]*s_a[-3:-2][0])\n",
    "\n",
    "maxtreeprod(A)\n",
    "maxtreeprod(B)"
   ]
  },
  {
   "cell_type": "markdown",
   "metadata": {},
   "source": [
    "Given a list of coordinates, write a function to find the k closest points (measured by the Euclidean distance) to the origin. For example, if k=3, and the points are: [[2, -1], [3,2], [4,1], [-1, -1], [-2,2]], then return [[-1,-1],[2,-1],[-2,2]]"
   ]
  },
  {
   "cell_type": "code",
   "execution_count": 56,
   "metadata": {},
   "outputs": [
    {
     "data": {
      "text/plain": [
       "[[-1, -1], [2, -1], [-2, 2]]"
      ]
     },
     "execution_count": 56,
     "metadata": {},
     "output_type": "execute_result"
    }
   ],
   "source": [
    "inp = [[2, -1], [3,2], [4,1], [-1, -1], [-2,2]]\n",
    "k = 3\n",
    "\n",
    "def get_dist(x, y):\n",
    "    return x**2 + y**2 \n",
    "\n",
    "def k_closest(k, inp):\n",
    "    res = {}\n",
    "    for i in range(0, len(inp)):\n",
    "            res[tuple(inp[i])] = get_dist(inp[i][0], inp[i][1])\n",
    "    \n",
    "    indx = sorted(res.items(), key=lambda x: x[1])[:k]\n",
    "    out = []\n",
    "    for i in range(0, k):\n",
    "        out.append(list(indx[i][0]))\n",
    "    \n",
    "    return out\n",
    "\n",
    "k_closest(k, inp)"
   ]
  },
  {
   "cell_type": "code",
   "execution_count": 51,
   "metadata": {},
   "outputs": [
    {
     "data": {
      "text/plain": [
       "[[[3, 2], [4, 1]], [[2, -1], [4, 1]], [[2, -1], [-1, -1]]]"
      ]
     },
     "execution_count": 51,
     "metadata": {},
     "output_type": "execute_result"
    }
   ],
   "source": [
    "# K-closest to each other\n",
    "\n",
    "inp = [[2, -1], [3,2], [4,1], [-1, -1], [-2,2]]\n",
    "k = 3\n",
    "\n",
    "def get_dist(x, y):\n",
    "    return ((x[0]-y[0])**2+(x[1]-y[1])**2)**(1/2) \n",
    "\n",
    "def k_closest(k, inp):\n",
    "    res = {}\n",
    "    for i in range(0, len(inp)):\n",
    "        for j in range(i+1, len(inp)):\n",
    "            res[tuple([i,j])] = get_dist(inp[i], inp[j])\n",
    "    \n",
    "    indx = sorted(res.items(), key=lambda x: x[1])[:k]\n",
    "    out = []\n",
    "    for i in range(0, k):\n",
    "        out.append([inp[indx[i][0][0]], inp[indx[i][0][1]]])\n",
    "    \n",
    "    return out\n",
    "\n",
    "k_closest(k, inp)"
   ]
  }
 ],
 "metadata": {
  "kernelspec": {
   "display_name": "Python 3 (ipykernel)",
   "language": "python",
   "name": "python3"
  },
  "language_info": {
   "codemirror_mode": {
    "name": "ipython",
    "version": 3
   },
   "file_extension": ".py",
   "mimetype": "text/x-python",
   "name": "python",
   "nbconvert_exporter": "python",
   "pygments_lexer": "ipython3",
   "version": "3.9.7"
  },
  "vscode": {
   "interpreter": {
    "hash": "31f2aee4e71d21fbe5cf8b01ff0e069b9275f58929596ceb00d14d90e3e16cd6"
   }
  }
 },
 "nbformat": 4,
 "nbformat_minor": 4
}
