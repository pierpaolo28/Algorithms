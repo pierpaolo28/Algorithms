{
 "cells": [
  {
   "cell_type": "markdown",
   "metadata": {},
   "source": [
    "## Pool Matching"
   ]
  },
  {
   "cell_type": "markdown",
   "metadata": {},
   "source": [
    "You’re given a list of people to match together in a pool of candidates.\n",
    "\n",
    "We want to match up people based on two ways:\n",
    "\n",
    "1. A hard filter on scheduled availability\n",
    "2. A closest match based on similar interests"
   ]
  },
  {
   "cell_type": "code",
   "execution_count": 21,
   "metadata": {},
   "outputs": [],
   "source": [
    "people = [\n",
    "    {\n",
    "        'name': 'Bob',\n",
    "        'availability': ['2021-01-10', '2021-01-11'],\n",
    "        'interests': ['rock climbing', 'tech', 'data science'],\n",
    "    },\n",
    "    {\n",
    "        'name': 'Joe',\n",
    "        'availability': ['2021-01-10', '2021-01-09'],\n",
    "        'interests': ['rock climbing', 'swimming', 'data science'],\n",
    "    },\n",
    "    {\n",
    "        'name': 'Carolyn',\n",
    "        'availability': ['2021-01-11', '2021-01-12'],\n",
    "        'interests': ['data science'],\n",
    "    },\n",
    "    {\n",
    "        'name': 'Dan',\n",
    "        'availability': ['2021-01-12'],\n",
    "        'interests': ['rock climbing'],\n",
    "    },\n",
    "]"
   ]
  },
  {
   "cell_type": "markdown",
   "metadata": {},
   "source": [
    "In this scenario, we would return a match of Bob and Joe while also matching Carolyn and Dan. Even though Carolyn and Dan don't have any interest overlap, Carolyn is the only one with availability to meet Dan's schedule.\n",
    "\n",
    "The goal is to optimize on total number of matches first while then subsequently optimizing on matching based on interests. \n",
    "\n",
    "Write a function given the formatted list of dictionaries above to return a list of matches along with scheduled times. If there is an odd number or excess people that cannot be matched based on avabilibility, return them in a separate list with their existing values. "
   ]
  },
  {
   "cell_type": "code",
   "execution_count": 22,
   "metadata": {},
   "outputs": [],
   "source": [
    "matches = [\n",
    "    {'match': ('Bob', 'Joe'),\n",
    "     'scheduled_date': '2021-01-10',\n",
    "     'overlapping_interests': ['rock climbing', 'data science'],},\n",
    "    {'match': ('Carolyn', 'Dan'), \n",
    "     'scheduled_date': '2021-01-12',\n",
    "     'overlapping_interests': []},]\n",
    "\n",
    "no_matches = []"
   ]
  },
  {
   "cell_type": "code",
   "execution_count": 67,
   "metadata": {},
   "outputs": [
    {
     "name": "stdout",
     "output_type": "stream",
     "text": [
      "Bob Joe\n",
      "2021-01-10\n",
      "Carolyn Dan\n",
      "2021-01-12\n"
     ]
    }
   ],
   "source": [
    "times = []\n",
    "for ind, i in enumerate(people):\n",
    "    for j in i['availability']:\n",
    "        try: \n",
    "            if j in people[ind+1]['availability']:\n",
    "                print(people[ind]['name'], people[ind+1]['name'])\n",
    "                print(j)\n",
    "        except:\n",
    "            pass\n"
   ]
  },
  {
   "cell_type": "code",
   "execution_count": 61,
   "metadata": {},
   "outputs": [],
   "source": [
    "from collections import Counter\n",
    "\n",
    "def solution_final(people):\n",
    "    name_set = {item['name'] for item in people}\n",
    "    len_input = len(people)\n",
    "    intersect_name , intersect_interest , intersect_date = [] , [] , []\n",
    "    for i in range(0 , len_input - 1):\n",
    "        for j in range(i + 1 , len_input):\n",
    "            intersect_date_tmp = set(people[i]['availability']) & set(people[j]['availability'])\n",
    "            if intersect_date_tmp:\n",
    "                intersect_name.append(people[i]['name'] + \",\" + people[j]['name'])\n",
    "                intersect_interest_tmp = set(people[i]['interests']) & set(people[j]['interests'])\n",
    "                intersect_interest.append(intersect_interest_tmp)\n",
    "                intersect_date.append(intersect_date_tmp)\n",
    "                intersect_interest_cnt = [len(i) for i in intersect_interest]\n",
    "                intersect_name_split = [elem for l1_elem in intersect_name for elem in l1_elem.split(',')]\n",
    "                intersect_name_dict = Counter(intersect_name_split)\n",
    "                intersect_name_cnt = [intersect_name_dict[elem.split(',')[0]] + intersect_name_dict[elem.split(',')[1]] for elem in intersect_name]\n",
    "                intersect_merge = list(zip(intersect_name , intersect_interest , intersect_date , intersect_interest_cnt , intersect_name_cnt))  #merge five one-dimensional lists to  one two-dimensional list.\n",
    "                intersect_merge_sorted = sorted(intersect_merge , key=lambda x: (x[4] , -x[3]))\n",
    "                # greedy method to traverse the list\n",
    "                matches , no_matches = [] , []\n",
    "                for elem in intersect_merge_sorted:\n",
    "                    been_added_set1 = {item['match'][0] for item in matches}\n",
    "                    been_added_set2 = {item['match'][1] for item in matches}\n",
    "                    been_added_set = been_added_set1 | been_added_set2\n",
    "                    #print(been_added_set)\n",
    "                    to_be_added_set = set(elem[0].split(','))\n",
    "                    if not to_be_added_set & been_added_set:\n",
    "                        ans_elem = {'match': tuple(elem[0].split(',')) , 'scheduled_date': ','.join(elem[2]) ,\n",
    "                                                'overlapping_interests': list(elem[1])}\n",
    "                        matches.append(ans_elem)\n",
    "                been_added_set1 = {item['match'][0] for item in matches}\n",
    "                been_added_set2 = {item['match'][1] for item in matches}\n",
    "                been_added_set = been_added_set1 | been_added_set2\n",
    "                unmatch_name_set = name_set - been_added_set\n",
    "                for elem in people:\n",
    "                    if elem['name'] in unmatch_name_set:\n",
    "                        no_matches.append(elem)\n",
    "\n",
    "    return matches , no_matches"
   ]
  },
  {
   "cell_type": "code",
   "execution_count": 42,
   "metadata": {},
   "outputs": [
    {
     "data": {
      "text/plain": [
       "([{'match': ('Bob', 'Joe'),\n",
       "   'scheduled_date': '2021-01-10',\n",
       "   'overlapping_interests': ['rock climbing', 'data science']},\n",
       "  {'match': ('Carolyn', 'Dan'),\n",
       "   'scheduled_date': '2021-01-12',\n",
       "   'overlapping_interests': []}],\n",
       " [])"
      ]
     },
     "execution_count": 42,
     "metadata": {},
     "output_type": "execute_result"
    }
   ],
   "source": [
    "solution_final(people)"
   ]
  },
  {
   "cell_type": "markdown",
   "metadata": {},
   "source": [
    "# Scrambled Tickets"
   ]
  },
  {
   "cell_type": "markdown",
   "metadata": {},
   "source": [
    "Consider a trip from one city to another that may contain many layovers. Given the list of flights out of order, each with a starting city and end city, write a function plan_trip to reconstruct the path of the trip so the trip tickets are in order.\n",
    "\n",
    "Example:\n",
    "\n",
    "For a trip from Bombay to Beijing:"
   ]
  },
  {
   "cell_type": "code",
   "execution_count": 43,
   "metadata": {},
   "outputs": [],
   "source": [
    "flights = [['Chennai', 'Bangalore'], ['Bombay', 'Delhi'], ['Goa', 'Chennai'], ['Delhi', 'Goa'], ['Bangalore', 'Beijing']]\n",
    "output = [['Bombay', 'Delhi'], ['Delhi', 'Goa'], ['Goa', 'Chennai'], ['Chennai', 'Bangalore'], ['Bangalore', 'Beijing'],]"
   ]
  },
  {
   "cell_type": "code",
   "execution_count": 60,
   "metadata": {},
   "outputs": [
    {
     "name": "stdout",
     "output_type": "stream",
     "text": [
      "[['Bombay', 'Delhi'], ['Delhi', 'Goa'], ['Goa', 'Chennai'], ['Chennai', 'Bangalore'], ['Bangalore', 'Beijing']]\n"
     ]
    }
   ],
   "source": [
    "def builder(sorted_list, unsorted_items):\n",
    "    still_unsorted = []\n",
    "    for item in unsorted_items:\n",
    "        if sorted_list[0][0] == item[1]:\n",
    "            sorted_list.insert(0,item)\n",
    "        elif sorted_list[len(sorted_list)-1][1] == item[0]:\n",
    "            sorted_list.append(item)\n",
    "        else:\n",
    "            still_unsorted.append(item)\n",
    "                \n",
    "    return sorted_list, still_unsorted\n",
    "\n",
    "route = [flights[0]]\n",
    "remaining = flights[1:len(flights)]\n",
    "# print(route, remaining)\n",
    "while remaining:\n",
    "    route, remaining = builder(route,remaining)\n",
    "#     print(route, remaining)\n",
    "print(route)"
   ]
  }
 ],
 "metadata": {
  "kernelspec": {
   "display_name": "Python 3",
   "language": "python",
   "name": "python3"
  },
  "language_info": {
   "codemirror_mode": {
    "name": "ipython",
    "version": 3
   },
   "file_extension": ".py",
   "mimetype": "text/x-python",
   "name": "python",
   "nbconvert_exporter": "python",
   "pygments_lexer": "ipython3",
   "version": "3.8.3"
  }
 },
 "nbformat": 4,
 "nbformat_minor": 4
}
